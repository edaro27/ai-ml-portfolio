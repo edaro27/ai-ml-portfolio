{
 "cells": [
  {
   "cell_type": "code",
   "execution_count": 1,
   "id": "9422f761",
   "metadata": {
    "_cell_guid": "b1076dfc-b9ad-4769-8c92-a6c4dae69d19",
    "_uuid": "8f2839f25d086af736a60e9eeb907d3b93b6e0e5",
    "execution": {
     "iopub.execute_input": "2025-06-23T19:36:59.071747Z",
     "iopub.status.busy": "2025-06-23T19:36:59.071158Z",
     "iopub.status.idle": "2025-06-23T19:37:00.893768Z",
     "shell.execute_reply": "2025-06-23T19:37:00.892746Z"
    },
    "papermill": {
     "duration": 1.829746,
     "end_time": "2025-06-23T19:37:00.895246",
     "exception": false,
     "start_time": "2025-06-23T19:36:59.065500",
     "status": "completed"
    },
    "tags": []
   },
   "outputs": [
    {
     "name": "stdout",
     "output_type": "stream",
     "text": [
      "/kaggle/input/titanic-machine-learning-from-disaster/train.csv\n",
      "/kaggle/input/titanic-machine-learning-from-disaster/test.csv\n"
     ]
    }
   ],
   "source": [
    "# This Python 3 environment comes with many helpful analytics libraries installed\n",
    "# It is defined by the kaggle/python Docker image: https://github.com/kaggle/docker-python\n",
    "# For example, here's several helpful packages to load\n",
    "\n",
    "import numpy as np # linear algebra\n",
    "import pandas as pd # data processing, CSV file I/O (e.g. pd.read_csv)\n",
    "\n",
    "# Input data files are available in the read-only \"../input/\" directory\n",
    "# For example, running this (by clicking run or pressing Shift+Enter) will list all files under the input directory\n",
    "\n",
    "import os\n",
    "for dirname, _, filenames in os.walk('/kaggle/input'):\n",
    "    for filename in filenames:\n",
    "        print(os.path.join(dirname, filename))\n",
    "\n",
    "# You can write up to 20GB to the current directory (/kaggle/working/) that gets preserved as output when you create a version using \"Save & Run All\" \n",
    "# You can also write temporary files to /kaggle/temp/, but they won't be saved outside of the current session"
   ]
  },
  {
   "cell_type": "code",
   "execution_count": 2,
   "id": "d336dcab",
   "metadata": {
    "execution": {
     "iopub.execute_input": "2025-06-23T19:37:00.904613Z",
     "iopub.status.busy": "2025-06-23T19:37:00.904225Z",
     "iopub.status.idle": "2025-06-23T19:37:00.950597Z",
     "shell.execute_reply": "2025-06-23T19:37:00.949611Z"
    },
    "papermill": {
     "duration": 0.052674,
     "end_time": "2025-06-23T19:37:00.952212",
     "exception": false,
     "start_time": "2025-06-23T19:37:00.899538",
     "status": "completed"
    },
    "tags": []
   },
   "outputs": [
    {
     "data": {
      "text/html": [
       "<div>\n",
       "<style scoped>\n",
       "    .dataframe tbody tr th:only-of-type {\n",
       "        vertical-align: middle;\n",
       "    }\n",
       "\n",
       "    .dataframe tbody tr th {\n",
       "        vertical-align: top;\n",
       "    }\n",
       "\n",
       "    .dataframe thead th {\n",
       "        text-align: right;\n",
       "    }\n",
       "</style>\n",
       "<table border=\"1\" class=\"dataframe\">\n",
       "  <thead>\n",
       "    <tr style=\"text-align: right;\">\n",
       "      <th></th>\n",
       "      <th>PassengerId</th>\n",
       "      <th>Survived</th>\n",
       "      <th>Pclass</th>\n",
       "      <th>Name</th>\n",
       "      <th>Sex</th>\n",
       "      <th>Age</th>\n",
       "      <th>SibSp</th>\n",
       "      <th>Parch</th>\n",
       "      <th>Ticket</th>\n",
       "      <th>Fare</th>\n",
       "      <th>Cabin</th>\n",
       "      <th>Embarked</th>\n",
       "    </tr>\n",
       "  </thead>\n",
       "  <tbody>\n",
       "    <tr>\n",
       "      <th>0</th>\n",
       "      <td>1</td>\n",
       "      <td>0</td>\n",
       "      <td>3</td>\n",
       "      <td>Braund, Mr. Owen Harris</td>\n",
       "      <td>male</td>\n",
       "      <td>22.0</td>\n",
       "      <td>1</td>\n",
       "      <td>0</td>\n",
       "      <td>A/5 21171</td>\n",
       "      <td>7.2500</td>\n",
       "      <td>NaN</td>\n",
       "      <td>S</td>\n",
       "    </tr>\n",
       "    <tr>\n",
       "      <th>1</th>\n",
       "      <td>2</td>\n",
       "      <td>1</td>\n",
       "      <td>1</td>\n",
       "      <td>Cumings, Mrs. John Bradley (Florence Briggs Th...</td>\n",
       "      <td>female</td>\n",
       "      <td>38.0</td>\n",
       "      <td>1</td>\n",
       "      <td>0</td>\n",
       "      <td>PC 17599</td>\n",
       "      <td>71.2833</td>\n",
       "      <td>C85</td>\n",
       "      <td>C</td>\n",
       "    </tr>\n",
       "    <tr>\n",
       "      <th>2</th>\n",
       "      <td>3</td>\n",
       "      <td>1</td>\n",
       "      <td>3</td>\n",
       "      <td>Heikkinen, Miss. Laina</td>\n",
       "      <td>female</td>\n",
       "      <td>26.0</td>\n",
       "      <td>0</td>\n",
       "      <td>0</td>\n",
       "      <td>STON/O2. 3101282</td>\n",
       "      <td>7.9250</td>\n",
       "      <td>NaN</td>\n",
       "      <td>S</td>\n",
       "    </tr>\n",
       "    <tr>\n",
       "      <th>3</th>\n",
       "      <td>4</td>\n",
       "      <td>1</td>\n",
       "      <td>1</td>\n",
       "      <td>Futrelle, Mrs. Jacques Heath (Lily May Peel)</td>\n",
       "      <td>female</td>\n",
       "      <td>35.0</td>\n",
       "      <td>1</td>\n",
       "      <td>0</td>\n",
       "      <td>113803</td>\n",
       "      <td>53.1000</td>\n",
       "      <td>C123</td>\n",
       "      <td>S</td>\n",
       "    </tr>\n",
       "    <tr>\n",
       "      <th>4</th>\n",
       "      <td>5</td>\n",
       "      <td>0</td>\n",
       "      <td>3</td>\n",
       "      <td>Allen, Mr. William Henry</td>\n",
       "      <td>male</td>\n",
       "      <td>35.0</td>\n",
       "      <td>0</td>\n",
       "      <td>0</td>\n",
       "      <td>373450</td>\n",
       "      <td>8.0500</td>\n",
       "      <td>NaN</td>\n",
       "      <td>S</td>\n",
       "    </tr>\n",
       "  </tbody>\n",
       "</table>\n",
       "</div>"
      ],
      "text/plain": [
       "   PassengerId  Survived  Pclass  \\\n",
       "0            1         0       3   \n",
       "1            2         1       1   \n",
       "2            3         1       3   \n",
       "3            4         1       1   \n",
       "4            5         0       3   \n",
       "\n",
       "                                                Name     Sex   Age  SibSp  \\\n",
       "0                            Braund, Mr. Owen Harris    male  22.0      1   \n",
       "1  Cumings, Mrs. John Bradley (Florence Briggs Th...  female  38.0      1   \n",
       "2                             Heikkinen, Miss. Laina  female  26.0      0   \n",
       "3       Futrelle, Mrs. Jacques Heath (Lily May Peel)  female  35.0      1   \n",
       "4                           Allen, Mr. William Henry    male  35.0      0   \n",
       "\n",
       "   Parch            Ticket     Fare Cabin Embarked  \n",
       "0      0         A/5 21171   7.2500   NaN        S  \n",
       "1      0          PC 17599  71.2833   C85        C  \n",
       "2      0  STON/O2. 3101282   7.9250   NaN        S  \n",
       "3      0            113803  53.1000  C123        S  \n",
       "4      0            373450   8.0500   NaN        S  "
      ]
     },
     "execution_count": 2,
     "metadata": {},
     "output_type": "execute_result"
    }
   ],
   "source": [
    "df = pd.read_csv('/kaggle/input/titanic-machine-learning-from-disaster/train.csv')\n",
    "df.head()"
   ]
  },
  {
   "cell_type": "code",
   "execution_count": 3,
   "id": "72be8d6e",
   "metadata": {
    "execution": {
     "iopub.execute_input": "2025-06-23T19:37:00.962018Z",
     "iopub.status.busy": "2025-06-23T19:37:00.961711Z",
     "iopub.status.idle": "2025-06-23T19:37:00.991766Z",
     "shell.execute_reply": "2025-06-23T19:37:00.990817Z"
    },
    "papermill": {
     "duration": 0.037048,
     "end_time": "2025-06-23T19:37:00.993507",
     "exception": false,
     "start_time": "2025-06-23T19:37:00.956459",
     "status": "completed"
    },
    "tags": []
   },
   "outputs": [
    {
     "data": {
      "text/html": [
       "<div>\n",
       "<style scoped>\n",
       "    .dataframe tbody tr th:only-of-type {\n",
       "        vertical-align: middle;\n",
       "    }\n",
       "\n",
       "    .dataframe tbody tr th {\n",
       "        vertical-align: top;\n",
       "    }\n",
       "\n",
       "    .dataframe thead th {\n",
       "        text-align: right;\n",
       "    }\n",
       "</style>\n",
       "<table border=\"1\" class=\"dataframe\">\n",
       "  <thead>\n",
       "    <tr style=\"text-align: right;\">\n",
       "      <th></th>\n",
       "      <th>PassengerId</th>\n",
       "      <th>Survived</th>\n",
       "      <th>Pclass</th>\n",
       "      <th>Age</th>\n",
       "      <th>SibSp</th>\n",
       "      <th>Parch</th>\n",
       "      <th>Fare</th>\n",
       "    </tr>\n",
       "  </thead>\n",
       "  <tbody>\n",
       "    <tr>\n",
       "      <th>count</th>\n",
       "      <td>891.000000</td>\n",
       "      <td>891.000000</td>\n",
       "      <td>891.000000</td>\n",
       "      <td>714.000000</td>\n",
       "      <td>891.000000</td>\n",
       "      <td>891.000000</td>\n",
       "      <td>891.000000</td>\n",
       "    </tr>\n",
       "    <tr>\n",
       "      <th>mean</th>\n",
       "      <td>446.000000</td>\n",
       "      <td>0.383838</td>\n",
       "      <td>2.308642</td>\n",
       "      <td>29.699118</td>\n",
       "      <td>0.523008</td>\n",
       "      <td>0.381594</td>\n",
       "      <td>32.204208</td>\n",
       "    </tr>\n",
       "    <tr>\n",
       "      <th>std</th>\n",
       "      <td>257.353842</td>\n",
       "      <td>0.486592</td>\n",
       "      <td>0.836071</td>\n",
       "      <td>14.526497</td>\n",
       "      <td>1.102743</td>\n",
       "      <td>0.806057</td>\n",
       "      <td>49.693429</td>\n",
       "    </tr>\n",
       "    <tr>\n",
       "      <th>min</th>\n",
       "      <td>1.000000</td>\n",
       "      <td>0.000000</td>\n",
       "      <td>1.000000</td>\n",
       "      <td>0.420000</td>\n",
       "      <td>0.000000</td>\n",
       "      <td>0.000000</td>\n",
       "      <td>0.000000</td>\n",
       "    </tr>\n",
       "    <tr>\n",
       "      <th>25%</th>\n",
       "      <td>223.500000</td>\n",
       "      <td>0.000000</td>\n",
       "      <td>2.000000</td>\n",
       "      <td>20.125000</td>\n",
       "      <td>0.000000</td>\n",
       "      <td>0.000000</td>\n",
       "      <td>7.910400</td>\n",
       "    </tr>\n",
       "    <tr>\n",
       "      <th>50%</th>\n",
       "      <td>446.000000</td>\n",
       "      <td>0.000000</td>\n",
       "      <td>3.000000</td>\n",
       "      <td>28.000000</td>\n",
       "      <td>0.000000</td>\n",
       "      <td>0.000000</td>\n",
       "      <td>14.454200</td>\n",
       "    </tr>\n",
       "    <tr>\n",
       "      <th>75%</th>\n",
       "      <td>668.500000</td>\n",
       "      <td>1.000000</td>\n",
       "      <td>3.000000</td>\n",
       "      <td>38.000000</td>\n",
       "      <td>1.000000</td>\n",
       "      <td>0.000000</td>\n",
       "      <td>31.000000</td>\n",
       "    </tr>\n",
       "    <tr>\n",
       "      <th>max</th>\n",
       "      <td>891.000000</td>\n",
       "      <td>1.000000</td>\n",
       "      <td>3.000000</td>\n",
       "      <td>80.000000</td>\n",
       "      <td>8.000000</td>\n",
       "      <td>6.000000</td>\n",
       "      <td>512.329200</td>\n",
       "    </tr>\n",
       "  </tbody>\n",
       "</table>\n",
       "</div>"
      ],
      "text/plain": [
       "       PassengerId    Survived      Pclass         Age       SibSp  \\\n",
       "count   891.000000  891.000000  891.000000  714.000000  891.000000   \n",
       "mean    446.000000    0.383838    2.308642   29.699118    0.523008   \n",
       "std     257.353842    0.486592    0.836071   14.526497    1.102743   \n",
       "min       1.000000    0.000000    1.000000    0.420000    0.000000   \n",
       "25%     223.500000    0.000000    2.000000   20.125000    0.000000   \n",
       "50%     446.000000    0.000000    3.000000   28.000000    0.000000   \n",
       "75%     668.500000    1.000000    3.000000   38.000000    1.000000   \n",
       "max     891.000000    1.000000    3.000000   80.000000    8.000000   \n",
       "\n",
       "            Parch        Fare  \n",
       "count  891.000000  891.000000  \n",
       "mean     0.381594   32.204208  \n",
       "std      0.806057   49.693429  \n",
       "min      0.000000    0.000000  \n",
       "25%      0.000000    7.910400  \n",
       "50%      0.000000   14.454200  \n",
       "75%      0.000000   31.000000  \n",
       "max      6.000000  512.329200  "
      ]
     },
     "execution_count": 3,
     "metadata": {},
     "output_type": "execute_result"
    }
   ],
   "source": [
    "df.describe()"
   ]
  },
  {
   "cell_type": "code",
   "execution_count": 4,
   "id": "0fa3a4cc",
   "metadata": {
    "execution": {
     "iopub.execute_input": "2025-06-23T19:37:01.003348Z",
     "iopub.status.busy": "2025-06-23T19:37:01.003022Z",
     "iopub.status.idle": "2025-06-23T19:37:01.013914Z",
     "shell.execute_reply": "2025-06-23T19:37:01.013042Z"
    },
    "papermill": {
     "duration": 0.017342,
     "end_time": "2025-06-23T19:37:01.015292",
     "exception": false,
     "start_time": "2025-06-23T19:37:00.997950",
     "status": "completed"
    },
    "tags": []
   },
   "outputs": [
    {
     "data": {
      "text/plain": [
       "Age\n",
       "24.00    30\n",
       "22.00    27\n",
       "18.00    26\n",
       "19.00    25\n",
       "28.00    25\n",
       "         ..\n",
       "36.50     1\n",
       "55.50     1\n",
       "0.92      1\n",
       "23.50     1\n",
       "74.00     1\n",
       "Name: count, Length: 88, dtype: int64"
      ]
     },
     "execution_count": 4,
     "metadata": {},
     "output_type": "execute_result"
    }
   ],
   "source": [
    "df['Age'].value_counts()\n",
    "\n"
   ]
  },
  {
   "cell_type": "code",
   "execution_count": 5,
   "id": "7e6f4343",
   "metadata": {
    "execution": {
     "iopub.execute_input": "2025-06-23T19:37:01.024828Z",
     "iopub.status.busy": "2025-06-23T19:37:01.024528Z",
     "iopub.status.idle": "2025-06-23T19:37:01.032680Z",
     "shell.execute_reply": "2025-06-23T19:37:01.031653Z"
    },
    "papermill": {
     "duration": 0.014457,
     "end_time": "2025-06-23T19:37:01.034056",
     "exception": false,
     "start_time": "2025-06-23T19:37:01.019599",
     "status": "completed"
    },
    "tags": []
   },
   "outputs": [
    {
     "data": {
      "text/plain": [
       "Pclass\n",
       "3    491\n",
       "1    216\n",
       "2    184\n",
       "Name: count, dtype: int64"
      ]
     },
     "execution_count": 5,
     "metadata": {},
     "output_type": "execute_result"
    }
   ],
   "source": [
    "df['Pclass'].value_counts()"
   ]
  },
  {
   "cell_type": "code",
   "execution_count": 6,
   "id": "9cc59b73",
   "metadata": {
    "execution": {
     "iopub.execute_input": "2025-06-23T19:37:01.043892Z",
     "iopub.status.busy": "2025-06-23T19:37:01.043439Z",
     "iopub.status.idle": "2025-06-23T19:37:01.051195Z",
     "shell.execute_reply": "2025-06-23T19:37:01.049988Z"
    },
    "papermill": {
     "duration": 0.014551,
     "end_time": "2025-06-23T19:37:01.053041",
     "exception": false,
     "start_time": "2025-06-23T19:37:01.038490",
     "status": "completed"
    },
    "tags": []
   },
   "outputs": [
    {
     "data": {
      "text/plain": [
       "Survived\n",
       "0    549\n",
       "1    342\n",
       "Name: count, dtype: int64"
      ]
     },
     "execution_count": 6,
     "metadata": {},
     "output_type": "execute_result"
    }
   ],
   "source": [
    "df['Survived'].value_counts()"
   ]
  },
  {
   "cell_type": "code",
   "execution_count": 7,
   "id": "af1a5e11",
   "metadata": {
    "execution": {
     "iopub.execute_input": "2025-06-23T19:37:01.064444Z",
     "iopub.status.busy": "2025-06-23T19:37:01.064122Z",
     "iopub.status.idle": "2025-06-23T19:37:01.094591Z",
     "shell.execute_reply": "2025-06-23T19:37:01.093541Z"
    },
    "papermill": {
     "duration": 0.038232,
     "end_time": "2025-06-23T19:37:01.096186",
     "exception": false,
     "start_time": "2025-06-23T19:37:01.057954",
     "status": "completed"
    },
    "tags": []
   },
   "outputs": [
    {
     "data": {
      "text/html": [
       "<div>\n",
       "<style scoped>\n",
       "    .dataframe tbody tr th:only-of-type {\n",
       "        vertical-align: middle;\n",
       "    }\n",
       "\n",
       "    .dataframe tbody tr th {\n",
       "        vertical-align: top;\n",
       "    }\n",
       "\n",
       "    .dataframe thead th {\n",
       "        text-align: right;\n",
       "    }\n",
       "</style>\n",
       "<table border=\"1\" class=\"dataframe\">\n",
       "  <thead>\n",
       "    <tr style=\"text-align: right;\">\n",
       "      <th>Survived</th>\n",
       "      <th>0</th>\n",
       "      <th>1</th>\n",
       "    </tr>\n",
       "    <tr>\n",
       "      <th>Pclass</th>\n",
       "      <th></th>\n",
       "      <th></th>\n",
       "    </tr>\n",
       "  </thead>\n",
       "  <tbody>\n",
       "    <tr>\n",
       "      <th>1</th>\n",
       "      <td>80</td>\n",
       "      <td>136</td>\n",
       "    </tr>\n",
       "    <tr>\n",
       "      <th>2</th>\n",
       "      <td>97</td>\n",
       "      <td>87</td>\n",
       "    </tr>\n",
       "    <tr>\n",
       "      <th>3</th>\n",
       "      <td>372</td>\n",
       "      <td>119</td>\n",
       "    </tr>\n",
       "  </tbody>\n",
       "</table>\n",
       "</div>"
      ],
      "text/plain": [
       "Survived    0    1\n",
       "Pclass            \n",
       "1          80  136\n",
       "2          97   87\n",
       "3         372  119"
      ]
     },
     "execution_count": 7,
     "metadata": {},
     "output_type": "execute_result"
    }
   ],
   "source": [
    "pd.crosstab(df['Pclass'],df['Survived'])"
   ]
  },
  {
   "cell_type": "code",
   "execution_count": 8,
   "id": "6edc7a8e",
   "metadata": {
    "execution": {
     "iopub.execute_input": "2025-06-23T19:37:01.107247Z",
     "iopub.status.busy": "2025-06-23T19:37:01.106996Z",
     "iopub.status.idle": "2025-06-23T19:37:01.122140Z",
     "shell.execute_reply": "2025-06-23T19:37:01.120899Z"
    },
    "papermill": {
     "duration": 0.023194,
     "end_time": "2025-06-23T19:37:01.124039",
     "exception": false,
     "start_time": "2025-06-23T19:37:01.100845",
     "status": "completed"
    },
    "tags": []
   },
   "outputs": [
    {
     "name": "stdout",
     "output_type": "stream",
     "text": [
      "Survived         0         1\n",
      "Pclass                      \n",
      "1         0.370370  0.629630\n",
      "2         0.527174  0.472826\n",
      "3         0.757637  0.242363\n"
     ]
    }
   ],
   "source": [
    "survival_rate=pd.crosstab(df['Pclass'],df['Survived'], normalize='index')\n",
    "print(survival_rate)"
   ]
  },
  {
   "cell_type": "code",
   "execution_count": 9,
   "id": "bb743502",
   "metadata": {
    "execution": {
     "iopub.execute_input": "2025-06-23T19:37:01.134363Z",
     "iopub.status.busy": "2025-06-23T19:37:01.134080Z",
     "iopub.status.idle": "2025-06-23T19:37:01.507769Z",
     "shell.execute_reply": "2025-06-23T19:37:01.506838Z"
    },
    "papermill": {
     "duration": 0.380401,
     "end_time": "2025-06-23T19:37:01.509236",
     "exception": false,
     "start_time": "2025-06-23T19:37:01.128835",
     "status": "completed"
    },
    "tags": []
   },
   "outputs": [
    {
     "data": {
      "image/png": "[encoded data removed]",
      "text/plain": [
       "<Figure size 640x480 with 1 Axes>"
      ]
     },
     "metadata": {},
     "output_type": "display_data"
    }
   ],
   "source": [
    "import matplotlib.pyplot as plt\n",
    "survival_rate.plot(kind='bar', stacked=True)\n",
    "plt.title('Survival Rate by Passenger Class')\n",
    "plt.xlabel('Pclass')\n",
    "plt.ylabel('Proportion')\n",
    "plt.show()"
   ]
  },
  {
   "cell_type": "markdown",
   "id": "cdcf9e71",
   "metadata": {
    "papermill": {
     "duration": 0.005273,
     "end_time": "2025-06-23T19:37:01.519826",
     "exception": false,
     "start_time": "2025-06-23T19:37:01.514553",
     "status": "completed"
    },
    "tags": []
   },
   "source": [
    "## Pclass vs. Survived Analysis\n",
    "- 1st class: ~63% survived, highest survival rate.\n",
    "- 2nd class: ~47% survived, moderate rate.\n",
    "- 3rd class: ~24% survived, lowest rate.\n",
    "- Pattern: Higher class correlates with higher survival."
   ]
  },
  {
   "cell_type": "code",
   "execution_count": 10,
   "id": "be0278ca",
   "metadata": {
    "execution": {
     "iopub.execute_input": "2025-06-23T19:37:01.533474Z",
     "iopub.status.busy": "2025-06-23T19:37:01.533092Z",
     "iopub.status.idle": "2025-06-23T19:37:01.540078Z",
     "shell.execute_reply": "2025-06-23T19:37:01.539109Z"
    },
    "papermill": {
     "duration": 0.016147,
     "end_time": "2025-06-23T19:37:01.541673",
     "exception": false,
     "start_time": "2025-06-23T19:37:01.525526",
     "status": "completed"
    },
    "tags": []
   },
   "outputs": [
    {
     "data": {
      "text/plain": [
       "Index(['PassengerId', 'Survived', 'Pclass', 'Name', 'Sex', 'Age', 'SibSp',\n",
       "       'Parch', 'Ticket', 'Fare', 'Cabin', 'Embarked'],\n",
       "      dtype='object')"
      ]
     },
     "execution_count": 10,
     "metadata": {},
     "output_type": "execute_result"
    }
   ],
   "source": [
    "df.columns"
   ]
  },
  {
   "cell_type": "code",
   "execution_count": 11,
   "id": "2d55d05f",
   "metadata": {
    "execution": {
     "iopub.execute_input": "2025-06-23T19:37:01.555820Z",
     "iopub.status.busy": "2025-06-23T19:37:01.555539Z",
     "iopub.status.idle": "2025-06-23T19:37:01.577813Z",
     "shell.execute_reply": "2025-06-23T19:37:01.576670Z"
    },
    "papermill": {
     "duration": 0.032212,
     "end_time": "2025-06-23T19:37:01.579338",
     "exception": false,
     "start_time": "2025-06-23T19:37:01.547126",
     "status": "completed"
    },
    "tags": []
   },
   "outputs": [
    {
     "data": {
      "text/html": [
       "<div>\n",
       "<style scoped>\n",
       "    .dataframe tbody tr th:only-of-type {\n",
       "        vertical-align: middle;\n",
       "    }\n",
       "\n",
       "    .dataframe tbody tr th {\n",
       "        vertical-align: top;\n",
       "    }\n",
       "\n",
       "    .dataframe thead th {\n",
       "        text-align: right;\n",
       "    }\n",
       "</style>\n",
       "<table border=\"1\" class=\"dataframe\">\n",
       "  <thead>\n",
       "    <tr style=\"text-align: right;\">\n",
       "      <th></th>\n",
       "      <th>Survived</th>\n",
       "      <th>0</th>\n",
       "      <th>1</th>\n",
       "    </tr>\n",
       "    <tr>\n",
       "      <th>Sex</th>\n",
       "      <th>Pclass</th>\n",
       "      <th></th>\n",
       "      <th></th>\n",
       "    </tr>\n",
       "  </thead>\n",
       "  <tbody>\n",
       "    <tr>\n",
       "      <th rowspan=\"3\" valign=\"top\">female</th>\n",
       "      <th>1</th>\n",
       "      <td>0.031915</td>\n",
       "      <td>0.968085</td>\n",
       "    </tr>\n",
       "    <tr>\n",
       "      <th>2</th>\n",
       "      <td>0.078947</td>\n",
       "      <td>0.921053</td>\n",
       "    </tr>\n",
       "    <tr>\n",
       "      <th>3</th>\n",
       "      <td>0.500000</td>\n",
       "      <td>0.500000</td>\n",
       "    </tr>\n",
       "    <tr>\n",
       "      <th rowspan=\"3\" valign=\"top\">male</th>\n",
       "      <th>1</th>\n",
       "      <td>0.631148</td>\n",
       "      <td>0.368852</td>\n",
       "    </tr>\n",
       "    <tr>\n",
       "      <th>2</th>\n",
       "      <td>0.842593</td>\n",
       "      <td>0.157407</td>\n",
       "    </tr>\n",
       "    <tr>\n",
       "      <th>3</th>\n",
       "      <td>0.864553</td>\n",
       "      <td>0.135447</td>\n",
       "    </tr>\n",
       "  </tbody>\n",
       "</table>\n",
       "</div>"
      ],
      "text/plain": [
       "Survived              0         1\n",
       "Sex    Pclass                    \n",
       "female 1       0.031915  0.968085\n",
       "       2       0.078947  0.921053\n",
       "       3       0.500000  0.500000\n",
       "male   1       0.631148  0.368852\n",
       "       2       0.842593  0.157407\n",
       "       3       0.864553  0.135447"
      ]
     },
     "execution_count": 11,
     "metadata": {},
     "output_type": "execute_result"
    }
   ],
   "source": [
    "pd.crosstab(index=[df['Sex'],df['Pclass']],columns=df['Survived'], normalize='index')"
   ]
  },
  {
   "cell_type": "markdown",
   "id": "ee29ea98",
   "metadata": {
    "papermill": {
     "duration": 0.005331,
     "end_time": "2025-06-23T19:37:01.590389",
     "exception": false,
     "start_time": "2025-06-23T19:37:01.585058",
     "status": "completed"
    },
    "tags": []
   },
   "source": [
    "## Pclass and Sex vs Survived\n",
    "-96% of females in 1st class survived, while only 50% of females in 3rd class survived\n",
    "-36% of males in first class survived, which dropped to 14% of males in 3rd class\n",
    "Sex is a stronger indicator of survival than Pclass"
   ]
  },
  {
   "cell_type": "code",
   "execution_count": 12,
   "id": "c7068893",
   "metadata": {
    "execution": {
     "iopub.execute_input": "2025-06-23T19:37:01.602208Z",
     "iopub.status.busy": "2025-06-23T19:37:01.601492Z",
     "iopub.status.idle": "2025-06-23T19:37:01.623811Z",
     "shell.execute_reply": "2025-06-23T19:37:01.622730Z"
    },
    "papermill": {
     "duration": 0.029876,
     "end_time": "2025-06-23T19:37:01.625405",
     "exception": false,
     "start_time": "2025-06-23T19:37:01.595529",
     "status": "completed"
    },
    "tags": []
   },
   "outputs": [
    {
     "data": {
      "text/html": [
       "<div>\n",
       "<style scoped>\n",
       "    .dataframe tbody tr th:only-of-type {\n",
       "        vertical-align: middle;\n",
       "    }\n",
       "\n",
       "    .dataframe tbody tr th {\n",
       "        vertical-align: top;\n",
       "    }\n",
       "\n",
       "    .dataframe thead th {\n",
       "        text-align: right;\n",
       "    }\n",
       "</style>\n",
       "<table border=\"1\" class=\"dataframe\">\n",
       "  <thead>\n",
       "    <tr style=\"text-align: right;\">\n",
       "      <th></th>\n",
       "      <th>PassengerId</th>\n",
       "      <th>Survived</th>\n",
       "      <th>Pclass</th>\n",
       "      <th>Age</th>\n",
       "      <th>SibSp</th>\n",
       "      <th>Parch</th>\n",
       "      <th>Fare</th>\n",
       "    </tr>\n",
       "  </thead>\n",
       "  <tbody>\n",
       "    <tr>\n",
       "      <th>count</th>\n",
       "      <td>891.000000</td>\n",
       "      <td>891.000000</td>\n",
       "      <td>891.000000</td>\n",
       "      <td>714.000000</td>\n",
       "      <td>891.000000</td>\n",
       "      <td>891.000000</td>\n",
       "      <td>891.000000</td>\n",
       "    </tr>\n",
       "    <tr>\n",
       "      <th>mean</th>\n",
       "      <td>446.000000</td>\n",
       "      <td>0.383838</td>\n",
       "      <td>2.308642</td>\n",
       "      <td>29.699118</td>\n",
       "      <td>0.523008</td>\n",
       "      <td>0.381594</td>\n",
       "      <td>32.204208</td>\n",
       "    </tr>\n",
       "    <tr>\n",
       "      <th>std</th>\n",
       "      <td>257.353842</td>\n",
       "      <td>0.486592</td>\n",
       "      <td>0.836071</td>\n",
       "      <td>14.526497</td>\n",
       "      <td>1.102743</td>\n",
       "      <td>0.806057</td>\n",
       "      <td>49.693429</td>\n",
       "    </tr>\n",
       "    <tr>\n",
       "      <th>min</th>\n",
       "      <td>1.000000</td>\n",
       "      <td>0.000000</td>\n",
       "      <td>1.000000</td>\n",
       "      <td>0.420000</td>\n",
       "      <td>0.000000</td>\n",
       "      <td>0.000000</td>\n",
       "      <td>0.000000</td>\n",
       "    </tr>\n",
       "    <tr>\n",
       "      <th>25%</th>\n",
       "      <td>223.500000</td>\n",
       "      <td>0.000000</td>\n",
       "      <td>2.000000</td>\n",
       "      <td>20.125000</td>\n",
       "      <td>0.000000</td>\n",
       "      <td>0.000000</td>\n",
       "      <td>7.910400</td>\n",
       "    </tr>\n",
       "    <tr>\n",
       "      <th>50%</th>\n",
       "      <td>446.000000</td>\n",
       "      <td>0.000000</td>\n",
       "      <td>3.000000</td>\n",
       "      <td>28.000000</td>\n",
       "      <td>0.000000</td>\n",
       "      <td>0.000000</td>\n",
       "      <td>14.454200</td>\n",
       "    </tr>\n",
       "    <tr>\n",
       "      <th>75%</th>\n",
       "      <td>668.500000</td>\n",
       "      <td>1.000000</td>\n",
       "      <td>3.000000</td>\n",
       "      <td>38.000000</td>\n",
       "      <td>1.000000</td>\n",
       "      <td>0.000000</td>\n",
       "      <td>31.000000</td>\n",
       "    </tr>\n",
       "    <tr>\n",
       "      <th>max</th>\n",
       "      <td>891.000000</td>\n",
       "      <td>1.000000</td>\n",
       "      <td>3.000000</td>\n",
       "      <td>80.000000</td>\n",
       "      <td>8.000000</td>\n",
       "      <td>6.000000</td>\n",
       "      <td>512.329200</td>\n",
       "    </tr>\n",
       "  </tbody>\n",
       "</table>\n",
       "</div>"
      ],
      "text/plain": [
       "       PassengerId    Survived      Pclass         Age       SibSp  \\\n",
       "count   891.000000  891.000000  891.000000  714.000000  891.000000   \n",
       "mean    446.000000    0.383838    2.308642   29.699118    0.523008   \n",
       "std     257.353842    0.486592    0.836071   14.526497    1.102743   \n",
       "min       1.000000    0.000000    1.000000    0.420000    0.000000   \n",
       "25%     223.500000    0.000000    2.000000   20.125000    0.000000   \n",
       "50%     446.000000    0.000000    3.000000   28.000000    0.000000   \n",
       "75%     668.500000    1.000000    3.000000   38.000000    1.000000   \n",
       "max     891.000000    1.000000    3.000000   80.000000    8.000000   \n",
       "\n",
       "            Parch        Fare  \n",
       "count  891.000000  891.000000  \n",
       "mean     0.381594   32.204208  \n",
       "std      0.806057   49.693429  \n",
       "min      0.000000    0.000000  \n",
       "25%      0.000000    7.910400  \n",
       "50%      0.000000   14.454200  \n",
       "75%      0.000000   31.000000  \n",
       "max      6.000000  512.329200  "
      ]
     },
     "execution_count": 12,
     "metadata": {},
     "output_type": "execute_result"
    }
   ],
   "source": [
    "df.describe()"
   ]
  },
  {
   "cell_type": "code",
   "execution_count": 13,
   "id": "ed0b555f",
   "metadata": {
    "execution": {
     "iopub.execute_input": "2025-06-23T19:37:01.638321Z",
     "iopub.status.busy": "2025-06-23T19:37:01.638040Z",
     "iopub.status.idle": "2025-06-23T19:37:01.652410Z",
     "shell.execute_reply": "2025-06-23T19:37:01.651429Z"
    },
    "papermill": {
     "duration": 0.023218,
     "end_time": "2025-06-23T19:37:01.654045",
     "exception": false,
     "start_time": "2025-06-23T19:37:01.630827",
     "status": "completed"
    },
    "tags": []
   },
   "outputs": [
    {
     "data": {
      "text/html": [
       "<div>\n",
       "<style scoped>\n",
       "    .dataframe tbody tr th:only-of-type {\n",
       "        vertical-align: middle;\n",
       "    }\n",
       "\n",
       "    .dataframe tbody tr th {\n",
       "        vertical-align: top;\n",
       "    }\n",
       "\n",
       "    .dataframe thead th {\n",
       "        text-align: right;\n",
       "    }\n",
       "</style>\n",
       "<table border=\"1\" class=\"dataframe\">\n",
       "  <thead>\n",
       "    <tr style=\"text-align: right;\">\n",
       "      <th></th>\n",
       "      <th>PassengerId</th>\n",
       "      <th>Survived</th>\n",
       "      <th>Pclass</th>\n",
       "      <th>Name</th>\n",
       "      <th>Sex</th>\n",
       "      <th>Age</th>\n",
       "      <th>SibSp</th>\n",
       "      <th>Parch</th>\n",
       "      <th>Ticket</th>\n",
       "      <th>Fare</th>\n",
       "      <th>Cabin</th>\n",
       "      <th>Embarked</th>\n",
       "    </tr>\n",
       "  </thead>\n",
       "  <tbody>\n",
       "    <tr>\n",
       "      <th>0</th>\n",
       "      <td>1</td>\n",
       "      <td>0</td>\n",
       "      <td>3</td>\n",
       "      <td>Braund, Mr. Owen Harris</td>\n",
       "      <td>male</td>\n",
       "      <td>22.0</td>\n",
       "      <td>1</td>\n",
       "      <td>0</td>\n",
       "      <td>A/5 21171</td>\n",
       "      <td>7.2500</td>\n",
       "      <td>NaN</td>\n",
       "      <td>S</td>\n",
       "    </tr>\n",
       "    <tr>\n",
       "      <th>1</th>\n",
       "      <td>2</td>\n",
       "      <td>1</td>\n",
       "      <td>1</td>\n",
       "      <td>Cumings, Mrs. John Bradley (Florence Briggs Th...</td>\n",
       "      <td>female</td>\n",
       "      <td>38.0</td>\n",
       "      <td>1</td>\n",
       "      <td>0</td>\n",
       "      <td>PC 17599</td>\n",
       "      <td>71.2833</td>\n",
       "      <td>C85</td>\n",
       "      <td>C</td>\n",
       "    </tr>\n",
       "    <tr>\n",
       "      <th>2</th>\n",
       "      <td>3</td>\n",
       "      <td>1</td>\n",
       "      <td>3</td>\n",
       "      <td>Heikkinen, Miss. Laina</td>\n",
       "      <td>female</td>\n",
       "      <td>26.0</td>\n",
       "      <td>0</td>\n",
       "      <td>0</td>\n",
       "      <td>STON/O2. 3101282</td>\n",
       "      <td>7.9250</td>\n",
       "      <td>NaN</td>\n",
       "      <td>S</td>\n",
       "    </tr>\n",
       "    <tr>\n",
       "      <th>3</th>\n",
       "      <td>4</td>\n",
       "      <td>1</td>\n",
       "      <td>1</td>\n",
       "      <td>Futrelle, Mrs. Jacques Heath (Lily May Peel)</td>\n",
       "      <td>female</td>\n",
       "      <td>35.0</td>\n",
       "      <td>1</td>\n",
       "      <td>0</td>\n",
       "      <td>113803</td>\n",
       "      <td>53.1000</td>\n",
       "      <td>C123</td>\n",
       "      <td>S</td>\n",
       "    </tr>\n",
       "    <tr>\n",
       "      <th>4</th>\n",
       "      <td>5</td>\n",
       "      <td>0</td>\n",
       "      <td>3</td>\n",
       "      <td>Allen, Mr. William Henry</td>\n",
       "      <td>male</td>\n",
       "      <td>35.0</td>\n",
       "      <td>0</td>\n",
       "      <td>0</td>\n",
       "      <td>373450</td>\n",
       "      <td>8.0500</td>\n",
       "      <td>NaN</td>\n",
       "      <td>S</td>\n",
       "    </tr>\n",
       "  </tbody>\n",
       "</table>\n",
       "</div>"
      ],
      "text/plain": [
       "   PassengerId  Survived  Pclass  \\\n",
       "0            1         0       3   \n",
       "1            2         1       1   \n",
       "2            3         1       3   \n",
       "3            4         1       1   \n",
       "4            5         0       3   \n",
       "\n",
       "                                                Name     Sex   Age  SibSp  \\\n",
       "0                            Braund, Mr. Owen Harris    male  22.0      1   \n",
       "1  Cumings, Mrs. John Bradley (Florence Briggs Th...  female  38.0      1   \n",
       "2                             Heikkinen, Miss. Laina  female  26.0      0   \n",
       "3       Futrelle, Mrs. Jacques Heath (Lily May Peel)  female  35.0      1   \n",
       "4                           Allen, Mr. William Henry    male  35.0      0   \n",
       "\n",
       "   Parch            Ticket     Fare Cabin Embarked  \n",
       "0      0         A/5 21171   7.2500   NaN        S  \n",
       "1      0          PC 17599  71.2833   C85        C  \n",
       "2      0  STON/O2. 3101282   7.9250   NaN        S  \n",
       "3      0            113803  53.1000  C123        S  \n",
       "4      0            373450   8.0500   NaN        S  "
      ]
     },
     "execution_count": 13,
     "metadata": {},
     "output_type": "execute_result"
    }
   ],
   "source": [
    "df.head()"
   ]
  },
  {
   "cell_type": "code",
   "execution_count": 14,
   "id": "96c0469f",
   "metadata": {
    "execution": {
     "iopub.execute_input": "2025-06-23T19:37:01.667243Z",
     "iopub.status.busy": "2025-06-23T19:37:01.666948Z",
     "iopub.status.idle": "2025-06-23T19:37:01.674672Z",
     "shell.execute_reply": "2025-06-23T19:37:01.673724Z"
    },
    "papermill": {
     "duration": 0.016891,
     "end_time": "2025-06-23T19:37:01.676767",
     "exception": false,
     "start_time": "2025-06-23T19:37:01.659876",
     "status": "completed"
    },
    "tags": []
   },
   "outputs": [
    {
     "name": "stdout",
     "output_type": "stream",
     "text": [
      "                                                Name  Survived\n",
      "0                            Braund, Mr. Owen Harris         0\n",
      "1  Cumings, Mrs. John Bradley (Florence Briggs Th...         1\n",
      "2                             Heikkinen, Miss. Laina         1\n",
      "3       Futrelle, Mrs. Jacques Heath (Lily May Peel)         1\n",
      "4                           Allen, Mr. William Henry         0\n",
      "5                                   Moran, Mr. James         0\n",
      "6                            McCarthy, Mr. Timothy J         0\n",
      "7                     Palsson, Master. Gosta Leonard         0\n",
      "8  Johnson, Mrs. Oscar W (Elisabeth Vilhelmina Berg)         1\n",
      "9                Nasser, Mrs. Nicholas (Adele Achem)         1\n"
     ]
    }
   ],
   "source": [
    "name_survived = df.loc[:9,['Name','Survived']]\n",
    "print(name_survived)\n",
    "#first 10 rows of Name and Survived"
   ]
  },
  {
   "cell_type": "code",
   "execution_count": 15,
   "id": "31704b56",
   "metadata": {
    "execution": {
     "iopub.execute_input": "2025-06-23T19:37:01.689931Z",
     "iopub.status.busy": "2025-06-23T19:37:01.689419Z",
     "iopub.status.idle": "2025-06-23T19:37:01.699115Z",
     "shell.execute_reply": "2025-06-23T19:37:01.698083Z"
    },
    "papermill": {
     "duration": 0.017494,
     "end_time": "2025-06-23T19:37:01.700515",
     "exception": false,
     "start_time": "2025-06-23T19:37:01.683021",
     "status": "completed"
    },
    "tags": []
   },
   "outputs": [
    {
     "name": "stdout",
     "output_type": "stream",
     "text": [
      "   Pclass     Sex   Age\n",
      "4       3    male  35.0\n",
      "5       3    male   NaN\n",
      "6       1    male  54.0\n",
      "7       3    male   2.0\n",
      "8       3  female  27.0\n",
      "9       2  female  14.0\n"
     ]
    },
    {
     "name": "stderr",
     "output_type": "stream",
     "text": [
      "/usr/local/lib/python3.11/dist-packages/pandas/io/formats/format.py:1458: RuntimeWarning: invalid value encountered in greater\n",
      "  has_large_values = (abs_vals > 1e6).any()\n",
      "/usr/local/lib/python3.11/dist-packages/pandas/io/formats/format.py:1459: RuntimeWarning: invalid value encountered in less\n",
      "  has_small_values = ((abs_vals < 10 ** (-self.digits)) & (abs_vals > 0)).any()\n",
      "/usr/local/lib/python3.11/dist-packages/pandas/io/formats/format.py:1459: RuntimeWarning: invalid value encountered in greater\n",
      "  has_small_values = ((abs_vals < 10 ** (-self.digits)) & (abs_vals > 0)).any()\n"
     ]
    }
   ],
   "source": [
    "pclass_sex_age = df.iloc[4:10,[2,4,5]]\n",
    "print(pclass_sex_age)"
   ]
  },
  {
   "cell_type": "code",
   "execution_count": 16,
   "id": "1b0d06d6",
   "metadata": {
    "execution": {
     "iopub.execute_input": "2025-06-23T19:37:01.713125Z",
     "iopub.status.busy": "2025-06-23T19:37:01.712853Z",
     "iopub.status.idle": "2025-06-23T19:37:01.720146Z",
     "shell.execute_reply": "2025-06-23T19:37:01.719139Z"
    },
    "papermill": {
     "duration": 0.015179,
     "end_time": "2025-06-23T19:37:01.721469",
     "exception": false,
     "start_time": "2025-06-23T19:37:01.706290",
     "status": "completed"
    },
    "tags": []
   },
   "outputs": [
    {
     "name": "stdout",
     "output_type": "stream",
     "text": [
      "PassengerId                                                   42\n",
      "Survived                                                       0\n",
      "Pclass                                                         2\n",
      "Name           Turpin, Mrs. William John Robert (Dorothy Ann ...\n",
      "Sex                                                       female\n",
      "Age                                                         27.0\n",
      "SibSp                                                          1\n",
      "Parch                                                          0\n",
      "Ticket                                                     11668\n",
      "Fare                                                        21.0\n",
      "Cabin                                                        NaN\n",
      "Embarked                                                       S\n",
      "Name: 41, dtype: object\n",
      "Age at index 41: 27.0\n"
     ]
    }
   ],
   "source": [
    "print(df.iloc[41])\n",
    "df.loc[41,['Age','Name']]\n",
    "age_41 = df.loc[41,'Age']\n",
    "print(f\"Age at index 41: {age_41}\")"
   ]
  },
  {
   "cell_type": "code",
   "execution_count": 17,
   "id": "280bd17a",
   "metadata": {
    "execution": {
     "iopub.execute_input": "2025-06-23T19:37:01.735079Z",
     "iopub.status.busy": "2025-06-23T19:37:01.734808Z",
     "iopub.status.idle": "2025-06-23T19:37:01.742316Z",
     "shell.execute_reply": "2025-06-23T19:37:01.741374Z"
    },
    "papermill": {
     "duration": 0.015998,
     "end_time": "2025-06-23T19:37:01.743954",
     "exception": false,
     "start_time": "2025-06-23T19:37:01.727956",
     "status": "completed"
    },
    "tags": []
   },
   "outputs": [
    {
     "name": "stdout",
     "output_type": "stream",
     "text": [
      "   Pclass     Fare  Survived\n",
      "0       3   7.2500         0\n",
      "1       1  71.2833         1\n",
      "2       3   7.9250         1\n",
      "3       1  53.1000         1\n",
      "4       3   8.0500         0\n"
     ]
    }
   ],
   "source": [
    "subset_df = df[['Pclass','Fare','Survived']]\n",
    "print(subset_df.head())"
   ]
  },
  {
   "cell_type": "code",
   "execution_count": 18,
   "id": "9706a2fc",
   "metadata": {
    "execution": {
     "iopub.execute_input": "2025-06-23T19:37:01.758355Z",
     "iopub.status.busy": "2025-06-23T19:37:01.758061Z",
     "iopub.status.idle": "2025-06-23T19:37:01.767169Z",
     "shell.execute_reply": "2025-06-23T19:37:01.765992Z"
    },
    "papermill": {
     "duration": 0.017716,
     "end_time": "2025-06-23T19:37:01.768676",
     "exception": false,
     "start_time": "2025-06-23T19:37:01.750960",
     "status": "completed"
    },
    "tags": []
   },
   "outputs": [
    {
     "name": "stdout",
     "output_type": "stream",
     "text": [
      "                                                Name  FamilySize\n",
      "0                            Braund, Mr. Owen Harris           1\n",
      "1  Cumings, Mrs. John Bradley (Florence Briggs Th...           1\n",
      "2                             Heikkinen, Miss. Laina           0\n",
      "3       Futrelle, Mrs. Jacques Heath (Lily May Peel)           1\n",
      "4                           Allen, Mr. William Henry           0\n"
     ]
    }
   ],
   "source": [
    "df['FamilySize'] = df['SibSp'] + df['Parch']\n",
    "print(df[['Name','FamilySize']].head())"
   ]
  },
  {
   "cell_type": "code",
   "execution_count": 19,
   "id": "b1b87d69",
   "metadata": {
    "execution": {
     "iopub.execute_input": "2025-06-23T19:37:01.782600Z",
     "iopub.status.busy": "2025-06-23T19:37:01.782166Z",
     "iopub.status.idle": "2025-06-23T19:37:01.789665Z",
     "shell.execute_reply": "2025-06-23T19:37:01.788712Z"
    },
    "papermill": {
     "duration": 0.016334,
     "end_time": "2025-06-23T19:37:01.791350",
     "exception": false,
     "start_time": "2025-06-23T19:37:01.775016",
     "status": "completed"
    },
    "tags": []
   },
   "outputs": [
    {
     "name": "stdout",
     "output_type": "stream",
     "text": [
      "   PassengerId Dataset\n",
      "0            1   train\n",
      "1            2   train\n",
      "2            3   train\n",
      "3            4   train\n",
      "4            5   train\n"
     ]
    }
   ],
   "source": [
    "df['Dataset'] = 'train'\n",
    "print(df[['PassengerId','Dataset']].head())"
   ]
  },
  {
   "cell_type": "code",
   "execution_count": 20,
   "id": "261a007c",
   "metadata": {
    "execution": {
     "iopub.execute_input": "2025-06-23T19:37:01.804456Z",
     "iopub.status.busy": "2025-06-23T19:37:01.804113Z",
     "iopub.status.idle": "2025-06-23T19:37:01.810587Z",
     "shell.execute_reply": "2025-06-23T19:37:01.809224Z"
    },
    "papermill": {
     "duration": 0.014685,
     "end_time": "2025-06-23T19:37:01.812126",
     "exception": false,
     "start_time": "2025-06-23T19:37:01.797441",
     "status": "completed"
    },
    "tags": []
   },
   "outputs": [
    {
     "name": "stdout",
     "output_type": "stream",
     "text": [
      "1st class survival rate: 62.96%\n"
     ]
    }
   ],
   "source": [
    "first_class = df.loc[df.Pclass ==1]\n",
    "first_class_sr = first_class['Survived'].mean()\n",
    "print(f\"1st class survival rate: {first_class_sr:.2%}\")"
   ]
  },
  {
   "cell_type": "code",
   "execution_count": 21,
   "id": "0c59c8d3",
   "metadata": {
    "execution": {
     "iopub.execute_input": "2025-06-23T19:37:01.826079Z",
     "iopub.status.busy": "2025-06-23T19:37:01.825750Z",
     "iopub.status.idle": "2025-06-23T19:37:01.834518Z",
     "shell.execute_reply": "2025-06-23T19:37:01.833201Z"
    },
    "papermill": {
     "duration": 0.018026,
     "end_time": "2025-06-23T19:37:01.836053",
     "exception": false,
     "start_time": "2025-06-23T19:37:01.818027",
     "status": "completed"
    },
    "tags": []
   },
   "outputs": [
    {
     "name": "stdout",
     "output_type": "stream",
     "text": [
      "PassengerId                                                    2\n",
      "Survived                                                       1\n",
      "Pclass                                                         1\n",
      "Name           Cumings, Mrs. John Bradley (Florence Briggs Th...\n",
      "Sex                                                       female\n",
      "Age                                                         38.0\n",
      "SibSp                                                          1\n",
      "Parch                                                          0\n",
      "Ticket                                                  PC 17599\n",
      "Fare                                                     71.2833\n",
      "Cabin                                                        C85\n",
      "Embarked                                                       C\n",
      "FamilySize                                                     1\n",
      "Dataset                                                    train\n",
      "Name: 1, dtype: object\n",
      "Avg female passenger age: 27.9\n"
     ]
    }
   ],
   "source": [
    "female_p = df.loc[df['Sex']=='female']\n",
    "print(female_p.iloc[0])\n",
    "female_p_age = female_p.Age.mean()\n",
    "print(f\"Avg female passenger age: {female_p_age:.1f}\")"
   ]
  },
  {
   "cell_type": "code",
   "execution_count": 22,
   "id": "0f2ffc55",
   "metadata": {
    "execution": {
     "iopub.execute_input": "2025-06-23T19:37:01.850411Z",
     "iopub.status.busy": "2025-06-23T19:37:01.849993Z",
     "iopub.status.idle": "2025-06-23T19:37:01.856834Z",
     "shell.execute_reply": "2025-06-23T19:37:01.855906Z"
    },
    "papermill": {
     "duration": 0.016006,
     "end_time": "2025-06-23T19:37:01.858426",
     "exception": false,
     "start_time": "2025-06-23T19:37:01.842420",
     "status": "completed"
    },
    "tags": []
   },
   "outputs": [
    {
     "name": "stdout",
     "output_type": "stream",
     "text": [
      "Passengers with large families (>3) who survived: 10\n"
     ]
    }
   ],
   "source": [
    "large_families = df.loc[df['FamilySize']>3, 'Survived']\n",
    "lf_survived = large_families.sum()\n",
    "print(f\"Passengers with large families (>3) who survived: {lf_survived}\")"
   ]
  },
  {
   "cell_type": "markdown",
   "id": "7f8edc52",
   "metadata": {
    "papermill": {
     "duration": 0.005772,
     "end_time": "2025-06-23T19:37:01.870416",
     "exception": false,
     "start_time": "2025-06-23T19:37:01.864644",
     "status": "completed"
    },
    "tags": []
   },
   "source": [
    "## Week 1, Wednesday: Indexing and Selection Practice\n",
    "- Selected 1st-class passengers: ~63% survival rate.\n",
    "- Average female age: ~27.9 years.\n",
    "- Survivors with FamilySize > 3: 10 passengers.\n",
    "- Created `FamilySize` column for future analysis."
   ]
  }
 ],
 "metadata": {
  "kaggle": {
   "accelerator": "none",
   "dataSources": [
    {
     "datasetId": 3064,
     "sourceId": 5101,
     "sourceType": "datasetVersion"
    }
   ],
   "dockerImageVersionId": 31040,
   "isGpuEnabled": false,
   "isInternetEnabled": false,
   "language": "python",
   "sourceType": "notebook"
  },
  "kernelspec": {
   "display_name": "Python 3",
   "language": "python",
   "name": "python3"
  },
  "language_info": {
   "codemirror_mode": {
    "name": "ipython",
    "version": 3
   },
   "file_extension": ".py",
   "mimetype": "text/x-python",
   "name": "python",
   "nbconvert_exporter": "python",
   "pygments_lexer": "ipython3",
   "version": "3.11.11"
  },
  "papermill": {
   "default_parameters": {},
   "duration": 7.929019,
   "end_time": "2025-06-23T19:37:02.396594",
   "environment_variables": {},
   "exception": null,
   "input_path": "__notebook__.ipynb",
   "output_path": "__notebook__.ipynb",
   "parameters": {},
   "start_time": "2025-06-23T19:36:54.467575",
   "version": "2.6.0"
  }
 },
 "nbformat": 4,
 "nbformat_minor": 5
}
