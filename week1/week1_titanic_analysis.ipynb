{
 "cells": [
  {
   "cell_type": "code",
   "execution_count": 1,
   "id": "81661055",
   "metadata": {
    "_cell_guid": "b1076dfc-b9ad-4769-8c92-a6c4dae69d19",
    "_uuid": "8f2839f25d086af736a60e9eeb907d3b93b6e0e5",
    "execution": {
     "iopub.execute_input": "2025-06-25T22:22:40.592660Z",
     "iopub.status.busy": "2025-06-25T22:22:40.591657Z",
     "iopub.status.idle": "2025-06-25T22:22:42.536529Z",
     "shell.execute_reply": "2025-06-25T22:22:42.535429Z"
    },
    "papermill": {
     "duration": 1.95433,
     "end_time": "2025-06-25T22:22:42.538373",
     "exception": false,
     "start_time": "2025-06-25T22:22:40.584043",
     "status": "completed"
    },
    "tags": []
   },
   "outputs": [
    {
     "name": "stdout",
     "output_type": "stream",
     "text": [
      "/kaggle/input/titanic-machine-learning-from-disaster/train.csv\n",
      "/kaggle/input/titanic-machine-learning-from-disaster/test.csv\n"
     ]
    }
   ],
   "source": [
    "# This Python 3 environment comes with many helpful analytics libraries installed\n",
    "# It is defined by the kaggle/python Docker image: https://github.com/kaggle/docker-python\n",
    "# For example, here's several helpful packages to load\n",
    "\n",
    "import numpy as np # linear algebra\n",
    "import pandas as pd # data processing, CSV file I/O (e.g. pd.read_csv)\n",
    "\n",
    "# Input data files are available in the read-only \"../input/\" directory\n",
    "# For example, running this (by clicking run or pressing Shift+Enter) will list all files under the input directory\n",
    "\n",
    "import os\n",
    "for dirname, _, filenames in os.walk('/kaggle/input'):\n",
    "    for filename in filenames:\n",
    "        print(os.path.join(dirname, filename))\n",
    "\n",
    "# You can write up to 20GB to the current directory (/kaggle/working/) that gets preserved as output when you create a version using \"Save & Run All\" \n",
    "# You can also write temporary files to /kaggle/temp/, but they won't be saved outside of the current session"
   ]
  },
  {
   "cell_type": "code",
   "execution_count": 2,
   "id": "df7eb59b",
   "metadata": {
    "execution": {
     "iopub.execute_input": "2025-06-25T22:22:42.551875Z",
     "iopub.status.busy": "2025-06-25T22:22:42.551412Z",
     "iopub.status.idle": "2025-06-25T22:22:42.601217Z",
     "shell.execute_reply": "2025-06-25T22:22:42.600205Z"
    },
    "papermill": {
     "duration": 0.058361,
     "end_time": "2025-06-25T22:22:42.603089",
     "exception": false,
     "start_time": "2025-06-25T22:22:42.544728",
     "status": "completed"
    },
    "tags": []
   },
   "outputs": [
    {
     "data": {
      "text/html": [
       "<div>\n",
       "<style scoped>\n",
       "    .dataframe tbody tr th:only-of-type {\n",
       "        vertical-align: middle;\n",
       "    }\n",
       "\n",
       "    .dataframe tbody tr th {\n",
       "        vertical-align: top;\n",
       "    }\n",
       "\n",
       "    .dataframe thead th {\n",
       "        text-align: right;\n",
       "    }\n",
       "</style>\n",
       "<table border=\"1\" class=\"dataframe\">\n",
       "  <thead>\n",
       "    <tr style=\"text-align: right;\">\n",
       "      <th></th>\n",
       "      <th>PassengerId</th>\n",
       "      <th>Survived</th>\n",
       "      <th>Pclass</th>\n",
       "      <th>Name</th>\n",
       "      <th>Sex</th>\n",
       "      <th>Age</th>\n",
       "      <th>SibSp</th>\n",
       "      <th>Parch</th>\n",
       "      <th>Ticket</th>\n",
       "      <th>Fare</th>\n",
       "      <th>Cabin</th>\n",
       "      <th>Embarked</th>\n",
       "    </tr>\n",
       "  </thead>\n",
       "  <tbody>\n",
       "    <tr>\n",
       "      <th>0</th>\n",
       "      <td>1</td>\n",
       "      <td>0</td>\n",
       "      <td>3</td>\n",
       "      <td>Braund, Mr. Owen Harris</td>\n",
       "      <td>male</td>\n",
       "      <td>22.0</td>\n",
       "      <td>1</td>\n",
       "      <td>0</td>\n",
       "      <td>A/5 21171</td>\n",
       "      <td>7.2500</td>\n",
       "      <td>NaN</td>\n",
       "      <td>S</td>\n",
       "    </tr>\n",
       "    <tr>\n",
       "      <th>1</th>\n",
       "      <td>2</td>\n",
       "      <td>1</td>\n",
       "      <td>1</td>\n",
       "      <td>Cumings, Mrs. John Bradley (Florence Briggs Th...</td>\n",
       "      <td>female</td>\n",
       "      <td>38.0</td>\n",
       "      <td>1</td>\n",
       "      <td>0</td>\n",
       "      <td>PC 17599</td>\n",
       "      <td>71.2833</td>\n",
       "      <td>C85</td>\n",
       "      <td>C</td>\n",
       "    </tr>\n",
       "    <tr>\n",
       "      <th>2</th>\n",
       "      <td>3</td>\n",
       "      <td>1</td>\n",
       "      <td>3</td>\n",
       "      <td>Heikkinen, Miss. Laina</td>\n",
       "      <td>female</td>\n",
       "      <td>26.0</td>\n",
       "      <td>0</td>\n",
       "      <td>0</td>\n",
       "      <td>STON/O2. 3101282</td>\n",
       "      <td>7.9250</td>\n",
       "      <td>NaN</td>\n",
       "      <td>S</td>\n",
       "    </tr>\n",
       "    <tr>\n",
       "      <th>3</th>\n",
       "      <td>4</td>\n",
       "      <td>1</td>\n",
       "      <td>1</td>\n",
       "      <td>Futrelle, Mrs. Jacques Heath (Lily May Peel)</td>\n",
       "      <td>female</td>\n",
       "      <td>35.0</td>\n",
       "      <td>1</td>\n",
       "      <td>0</td>\n",
       "      <td>113803</td>\n",
       "      <td>53.1000</td>\n",
       "      <td>C123</td>\n",
       "      <td>S</td>\n",
       "    </tr>\n",
       "    <tr>\n",
       "      <th>4</th>\n",
       "      <td>5</td>\n",
       "      <td>0</td>\n",
       "      <td>3</td>\n",
       "      <td>Allen, Mr. William Henry</td>\n",
       "      <td>male</td>\n",
       "      <td>35.0</td>\n",
       "      <td>0</td>\n",
       "      <td>0</td>\n",
       "      <td>373450</td>\n",
       "      <td>8.0500</td>\n",
       "      <td>NaN</td>\n",
       "      <td>S</td>\n",
       "    </tr>\n",
       "  </tbody>\n",
       "</table>\n",
       "</div>"
      ],
      "text/plain": [
       "   PassengerId  Survived  Pclass  \\\n",
       "0            1         0       3   \n",
       "1            2         1       1   \n",
       "2            3         1       3   \n",
       "3            4         1       1   \n",
       "4            5         0       3   \n",
       "\n",
       "                                                Name     Sex   Age  SibSp  \\\n",
       "0                            Braund, Mr. Owen Harris    male  22.0      1   \n",
       "1  Cumings, Mrs. John Bradley (Florence Briggs Th...  female  38.0      1   \n",
       "2                             Heikkinen, Miss. Laina  female  26.0      0   \n",
       "3       Futrelle, Mrs. Jacques Heath (Lily May Peel)  female  35.0      1   \n",
       "4                           Allen, Mr. William Henry    male  35.0      0   \n",
       "\n",
       "   Parch            Ticket     Fare Cabin Embarked  \n",
       "0      0         A/5 21171   7.2500   NaN        S  \n",
       "1      0          PC 17599  71.2833   C85        C  \n",
       "2      0  STON/O2. 3101282   7.9250   NaN        S  \n",
       "3      0            113803  53.1000  C123        S  \n",
       "4      0            373450   8.0500   NaN        S  "
      ]
     },
     "execution_count": 2,
     "metadata": {},
     "output_type": "execute_result"
    }
   ],
   "source": [
    "df = pd.read_csv('/kaggle/input/titanic-machine-learning-from-disaster/train.csv')\n",
    "df.head()"
   ]
  },
  {
   "cell_type": "code",
   "execution_count": 3,
   "id": "c543db2c",
   "metadata": {
    "execution": {
     "iopub.execute_input": "2025-06-25T22:22:42.616213Z",
     "iopub.status.busy": "2025-06-25T22:22:42.615830Z",
     "iopub.status.idle": "2025-06-25T22:22:42.649214Z",
     "shell.execute_reply": "2025-06-25T22:22:42.648237Z"
    },
    "papermill": {
     "duration": 0.041641,
     "end_time": "2025-06-25T22:22:42.650640",
     "exception": false,
     "start_time": "2025-06-25T22:22:42.608999",
     "status": "completed"
    },
    "tags": []
   },
   "outputs": [
    {
     "data": {
      "text/html": [
       "<div>\n",
       "<style scoped>\n",
       "    .dataframe tbody tr th:only-of-type {\n",
       "        vertical-align: middle;\n",
       "    }\n",
       "\n",
       "    .dataframe tbody tr th {\n",
       "        vertical-align: top;\n",
       "    }\n",
       "\n",
       "    .dataframe thead th {\n",
       "        text-align: right;\n",
       "    }\n",
       "</style>\n",
       "<table border=\"1\" class=\"dataframe\">\n",
       "  <thead>\n",
       "    <tr style=\"text-align: right;\">\n",
       "      <th></th>\n",
       "      <th>PassengerId</th>\n",
       "      <th>Survived</th>\n",
       "      <th>Pclass</th>\n",
       "      <th>Age</th>\n",
       "      <th>SibSp</th>\n",
       "      <th>Parch</th>\n",
       "      <th>Fare</th>\n",
       "    </tr>\n",
       "  </thead>\n",
       "  <tbody>\n",
       "    <tr>\n",
       "      <th>count</th>\n",
       "      <td>891.000000</td>\n",
       "      <td>891.000000</td>\n",
       "      <td>891.000000</td>\n",
       "      <td>714.000000</td>\n",
       "      <td>891.000000</td>\n",
       "      <td>891.000000</td>\n",
       "      <td>891.000000</td>\n",
       "    </tr>\n",
       "    <tr>\n",
       "      <th>mean</th>\n",
       "      <td>446.000000</td>\n",
       "      <td>0.383838</td>\n",
       "      <td>2.308642</td>\n",
       "      <td>29.699118</td>\n",
       "      <td>0.523008</td>\n",
       "      <td>0.381594</td>\n",
       "      <td>32.204208</td>\n",
       "    </tr>\n",
       "    <tr>\n",
       "      <th>std</th>\n",
       "      <td>257.353842</td>\n",
       "      <td>0.486592</td>\n",
       "      <td>0.836071</td>\n",
       "      <td>14.526497</td>\n",
       "      <td>1.102743</td>\n",
       "      <td>0.806057</td>\n",
       "      <td>49.693429</td>\n",
       "    </tr>\n",
       "    <tr>\n",
       "      <th>min</th>\n",
       "      <td>1.000000</td>\n",
       "      <td>0.000000</td>\n",
       "      <td>1.000000</td>\n",
       "      <td>0.420000</td>\n",
       "      <td>0.000000</td>\n",
       "      <td>0.000000</td>\n",
       "      <td>0.000000</td>\n",
       "    </tr>\n",
       "    <tr>\n",
       "      <th>25%</th>\n",
       "      <td>223.500000</td>\n",
       "      <td>0.000000</td>\n",
       "      <td>2.000000</td>\n",
       "      <td>20.125000</td>\n",
       "      <td>0.000000</td>\n",
       "      <td>0.000000</td>\n",
       "      <td>7.910400</td>\n",
       "    </tr>\n",
       "    <tr>\n",
       "      <th>50%</th>\n",
       "      <td>446.000000</td>\n",
       "      <td>0.000000</td>\n",
       "      <td>3.000000</td>\n",
       "      <td>28.000000</td>\n",
       "      <td>0.000000</td>\n",
       "      <td>0.000000</td>\n",
       "      <td>14.454200</td>\n",
       "    </tr>\n",
       "    <tr>\n",
       "      <th>75%</th>\n",
       "      <td>668.500000</td>\n",
       "      <td>1.000000</td>\n",
       "      <td>3.000000</td>\n",
       "      <td>38.000000</td>\n",
       "      <td>1.000000</td>\n",
       "      <td>0.000000</td>\n",
       "      <td>31.000000</td>\n",
       "    </tr>\n",
       "    <tr>\n",
       "      <th>max</th>\n",
       "      <td>891.000000</td>\n",
       "      <td>1.000000</td>\n",
       "      <td>3.000000</td>\n",
       "      <td>80.000000</td>\n",
       "      <td>8.000000</td>\n",
       "      <td>6.000000</td>\n",
       "      <td>512.329200</td>\n",
       "    </tr>\n",
       "  </tbody>\n",
       "</table>\n",
       "</div>"
      ],
      "text/plain": [
       "       PassengerId    Survived      Pclass         Age       SibSp  \\\n",
       "count   891.000000  891.000000  891.000000  714.000000  891.000000   \n",
       "mean    446.000000    0.383838    2.308642   29.699118    0.523008   \n",
       "std     257.353842    0.486592    0.836071   14.526497    1.102743   \n",
       "min       1.000000    0.000000    1.000000    0.420000    0.000000   \n",
       "25%     223.500000    0.000000    2.000000   20.125000    0.000000   \n",
       "50%     446.000000    0.000000    3.000000   28.000000    0.000000   \n",
       "75%     668.500000    1.000000    3.000000   38.000000    1.000000   \n",
       "max     891.000000    1.000000    3.000000   80.000000    8.000000   \n",
       "\n",
       "            Parch        Fare  \n",
       "count  891.000000  891.000000  \n",
       "mean     0.381594   32.204208  \n",
       "std      0.806057   49.693429  \n",
       "min      0.000000    0.000000  \n",
       "25%      0.000000    7.910400  \n",
       "50%      0.000000   14.454200  \n",
       "75%      0.000000   31.000000  \n",
       "max      6.000000  512.329200  "
      ]
     },
     "execution_count": 3,
     "metadata": {},
     "output_type": "execute_result"
    }
   ],
   "source": [
    "df.describe()"
   ]
  },
  {
   "cell_type": "code",
   "execution_count": 4,
   "id": "93a51d2b",
   "metadata": {
    "execution": {
     "iopub.execute_input": "2025-06-25T22:22:42.664345Z",
     "iopub.status.busy": "2025-06-25T22:22:42.663643Z",
     "iopub.status.idle": "2025-06-25T22:22:42.676020Z",
     "shell.execute_reply": "2025-06-25T22:22:42.675124Z"
    },
    "papermill": {
     "duration": 0.020806,
     "end_time": "2025-06-25T22:22:42.677513",
     "exception": false,
     "start_time": "2025-06-25T22:22:42.656707",
     "status": "completed"
    },
    "tags": []
   },
   "outputs": [
    {
     "data": {
      "text/plain": [
       "Age\n",
       "24.00    30\n",
       "22.00    27\n",
       "18.00    26\n",
       "19.00    25\n",
       "28.00    25\n",
       "         ..\n",
       "36.50     1\n",
       "55.50     1\n",
       "0.92      1\n",
       "23.50     1\n",
       "74.00     1\n",
       "Name: count, Length: 88, dtype: int64"
      ]
     },
     "execution_count": 4,
     "metadata": {},
     "output_type": "execute_result"
    }
   ],
   "source": [
    "df['Age'].value_counts()\n",
    "\n"
   ]
  },
  {
   "cell_type": "code",
   "execution_count": 5,
   "id": "99fe492b",
   "metadata": {
    "execution": {
     "iopub.execute_input": "2025-06-25T22:22:42.690968Z",
     "iopub.status.busy": "2025-06-25T22:22:42.690626Z",
     "iopub.status.idle": "2025-06-25T22:22:42.699597Z",
     "shell.execute_reply": "2025-06-25T22:22:42.698740Z"
    },
    "papermill": {
     "duration": 0.01751,
     "end_time": "2025-06-25T22:22:42.701093",
     "exception": false,
     "start_time": "2025-06-25T22:22:42.683583",
     "status": "completed"
    },
    "tags": []
   },
   "outputs": [
    {
     "data": {
      "text/plain": [
       "Pclass\n",
       "3    491\n",
       "1    216\n",
       "2    184\n",
       "Name: count, dtype: int64"
      ]
     },
     "execution_count": 5,
     "metadata": {},
     "output_type": "execute_result"
    }
   ],
   "source": [
    "df['Pclass'].value_counts()"
   ]
  },
  {
   "cell_type": "code",
   "execution_count": 6,
   "id": "229b3dd4",
   "metadata": {
    "execution": {
     "iopub.execute_input": "2025-06-25T22:22:42.715198Z",
     "iopub.status.busy": "2025-06-25T22:22:42.714881Z",
     "iopub.status.idle": "2025-06-25T22:22:42.721900Z",
     "shell.execute_reply": "2025-06-25T22:22:42.721014Z"
    },
    "papermill": {
     "duration": 0.015583,
     "end_time": "2025-06-25T22:22:42.723356",
     "exception": false,
     "start_time": "2025-06-25T22:22:42.707773",
     "status": "completed"
    },
    "tags": []
   },
   "outputs": [
    {
     "data": {
      "text/plain": [
       "Survived\n",
       "0    549\n",
       "1    342\n",
       "Name: count, dtype: int64"
      ]
     },
     "execution_count": 6,
     "metadata": {},
     "output_type": "execute_result"
    }
   ],
   "source": [
    "df['Survived'].value_counts()"
   ]
  },
  {
   "cell_type": "code",
   "execution_count": 7,
   "id": "64942fe1",
   "metadata": {
    "execution": {
     "iopub.execute_input": "2025-06-25T22:22:42.736669Z",
     "iopub.status.busy": "2025-06-25T22:22:42.736386Z",
     "iopub.status.idle": "2025-06-25T22:22:42.772760Z",
     "shell.execute_reply": "2025-06-25T22:22:42.771823Z"
    },
    "papermill": {
     "duration": 0.045096,
     "end_time": "2025-06-25T22:22:42.774501",
     "exception": false,
     "start_time": "2025-06-25T22:22:42.729405",
     "status": "completed"
    },
    "tags": []
   },
   "outputs": [
    {
     "data": {
      "text/html": [
       "<div>\n",
       "<style scoped>\n",
       "    .dataframe tbody tr th:only-of-type {\n",
       "        vertical-align: middle;\n",
       "    }\n",
       "\n",
       "    .dataframe tbody tr th {\n",
       "        vertical-align: top;\n",
       "    }\n",
       "\n",
       "    .dataframe thead th {\n",
       "        text-align: right;\n",
       "    }\n",
       "</style>\n",
       "<table border=\"1\" class=\"dataframe\">\n",
       "  <thead>\n",
       "    <tr style=\"text-align: right;\">\n",
       "      <th>Survived</th>\n",
       "      <th>0</th>\n",
       "      <th>1</th>\n",
       "    </tr>\n",
       "    <tr>\n",
       "      <th>Pclass</th>\n",
       "      <th></th>\n",
       "      <th></th>\n",
       "    </tr>\n",
       "  </thead>\n",
       "  <tbody>\n",
       "    <tr>\n",
       "      <th>1</th>\n",
       "      <td>80</td>\n",
       "      <td>136</td>\n",
       "    </tr>\n",
       "    <tr>\n",
       "      <th>2</th>\n",
       "      <td>97</td>\n",
       "      <td>87</td>\n",
       "    </tr>\n",
       "    <tr>\n",
       "      <th>3</th>\n",
       "      <td>372</td>\n",
       "      <td>119</td>\n",
       "    </tr>\n",
       "  </tbody>\n",
       "</table>\n",
       "</div>"
      ],
      "text/plain": [
       "Survived    0    1\n",
       "Pclass            \n",
       "1          80  136\n",
       "2          97   87\n",
       "3         372  119"
      ]
     },
     "execution_count": 7,
     "metadata": {},
     "output_type": "execute_result"
    }
   ],
   "source": [
    "pd.crosstab(df['Pclass'],df['Survived'])"
   ]
  },
  {
   "cell_type": "code",
   "execution_count": 8,
   "id": "5f287782",
   "metadata": {
    "execution": {
     "iopub.execute_input": "2025-06-25T22:22:42.789572Z",
     "iopub.status.busy": "2025-06-25T22:22:42.788535Z",
     "iopub.status.idle": "2025-06-25T22:22:42.804218Z",
     "shell.execute_reply": "2025-06-25T22:22:42.802884Z"
    },
    "papermill": {
     "duration": 0.024614,
     "end_time": "2025-06-25T22:22:42.805766",
     "exception": false,
     "start_time": "2025-06-25T22:22:42.781152",
     "status": "completed"
    },
    "tags": []
   },
   "outputs": [
    {
     "name": "stdout",
     "output_type": "stream",
     "text": [
      "Survived         0         1\n",
      "Pclass                      \n",
      "1         0.370370  0.629630\n",
      "2         0.527174  0.472826\n",
      "3         0.757637  0.242363\n"
     ]
    }
   ],
   "source": [
    "survival_rate=pd.crosstab(df['Pclass'],df['Survived'], normalize='index')\n",
    "print(survival_rate)"
   ]
  },
  {
   "cell_type": "code",
   "execution_count": 9,
   "id": "0082a538",
   "metadata": {
    "execution": {
     "iopub.execute_input": "2025-06-25T22:22:42.820202Z",
     "iopub.status.busy": "2025-06-25T22:22:42.819301Z",
     "iopub.status.idle": "2025-06-25T22:22:43.166211Z",
     "shell.execute_reply": "2025-06-25T22:22:43.165330Z"
    },
    "papermill": {
     "duration": 0.355409,
     "end_time": "2025-06-25T22:22:43.167567",
     "exception": false,
     "start_time": "2025-06-25T22:22:42.812158",
     "status": "completed"
    },
    "tags": []
   },
   "outputs": [
    {
     "data": {
      "image/png": "[encoded data removed]",
      "text/plain": [
       "<Figure size 640x480 with 1 Axes>"
      ]
     },
     "metadata": {},
     "output_type": "display_data"
    }
   ],
   "source": [
    "import matplotlib.pyplot as plt\n",
    "survival_rate.plot(kind='bar', stacked=True)\n",
    "plt.title('Survival Rate by Passenger Class')\n",
    "plt.xlabel('Pclass')\n",
    "plt.ylabel('Proportion')\n",
    "plt.show()"
   ]
  },
  {
   "cell_type": "markdown",
   "id": "c364b553",
   "metadata": {
    "papermill": {
     "duration": 0.006208,
     "end_time": "2025-06-25T22:22:43.181025",
     "exception": false,
     "start_time": "2025-06-25T22:22:43.174817",
     "status": "completed"
    },
    "tags": []
   },
   "source": [
    "## Pclass vs. Survived Analysis\n",
    "- 1st class: ~63% survived, highest survival rate.\n",
    "- 2nd class: ~47% survived, moderate rate.\n",
    "- 3rd class: ~24% survived, lowest rate.\n",
    "- Pattern: Higher class correlates with higher survival."
   ]
  },
  {
   "cell_type": "code",
   "execution_count": 10,
   "id": "1db245a0",
   "metadata": {
    "execution": {
     "iopub.execute_input": "2025-06-25T22:22:43.196031Z",
     "iopub.status.busy": "2025-06-25T22:22:43.195085Z",
     "iopub.status.idle": "2025-06-25T22:22:43.201818Z",
     "shell.execute_reply": "2025-06-25T22:22:43.200640Z"
    },
    "papermill": {
     "duration": 0.015867,
     "end_time": "2025-06-25T22:22:43.203272",
     "exception": false,
     "start_time": "2025-06-25T22:22:43.187405",
     "status": "completed"
    },
    "tags": []
   },
   "outputs": [
    {
     "data": {
      "text/plain": [
       "Index(['PassengerId', 'Survived', 'Pclass', 'Name', 'Sex', 'Age', 'SibSp',\n",
       "       'Parch', 'Ticket', 'Fare', 'Cabin', 'Embarked'],\n",
       "      dtype='object')"
      ]
     },
     "execution_count": 10,
     "metadata": {},
     "output_type": "execute_result"
    }
   ],
   "source": [
    "df.columns"
   ]
  },
  {
   "cell_type": "code",
   "execution_count": 11,
   "id": "a52746ce",
   "metadata": {
    "execution": {
     "iopub.execute_input": "2025-06-25T22:22:43.218568Z",
     "iopub.status.busy": "2025-06-25T22:22:43.217528Z",
     "iopub.status.idle": "2025-06-25T22:22:43.239276Z",
     "shell.execute_reply": "2025-06-25T22:22:43.238424Z"
    },
    "papermill": {
     "duration": 0.030883,
     "end_time": "2025-06-25T22:22:43.240716",
     "exception": false,
     "start_time": "2025-06-25T22:22:43.209833",
     "status": "completed"
    },
    "tags": []
   },
   "outputs": [
    {
     "data": {
      "text/html": [
       "<div>\n",
       "<style scoped>\n",
       "    .dataframe tbody tr th:only-of-type {\n",
       "        vertical-align: middle;\n",
       "    }\n",
       "\n",
       "    .dataframe tbody tr th {\n",
       "        vertical-align: top;\n",
       "    }\n",
       "\n",
       "    .dataframe thead th {\n",
       "        text-align: right;\n",
       "    }\n",
       "</style>\n",
       "<table border=\"1\" class=\"dataframe\">\n",
       "  <thead>\n",
       "    <tr style=\"text-align: right;\">\n",
       "      <th></th>\n",
       "      <th>Survived</th>\n",
       "      <th>0</th>\n",
       "      <th>1</th>\n",
       "    </tr>\n",
       "    <tr>\n",
       "      <th>Sex</th>\n",
       "      <th>Pclass</th>\n",
       "      <th></th>\n",
       "      <th></th>\n",
       "    </tr>\n",
       "  </thead>\n",
       "  <tbody>\n",
       "    <tr>\n",
       "      <th rowspan=\"3\" valign=\"top\">female</th>\n",
       "      <th>1</th>\n",
       "      <td>0.031915</td>\n",
       "      <td>0.968085</td>\n",
       "    </tr>\n",
       "    <tr>\n",
       "      <th>2</th>\n",
       "      <td>0.078947</td>\n",
       "      <td>0.921053</td>\n",
       "    </tr>\n",
       "    <tr>\n",
       "      <th>3</th>\n",
       "      <td>0.500000</td>\n",
       "      <td>0.500000</td>\n",
       "    </tr>\n",
       "    <tr>\n",
       "      <th rowspan=\"3\" valign=\"top\">male</th>\n",
       "      <th>1</th>\n",
       "      <td>0.631148</td>\n",
       "      <td>0.368852</td>\n",
       "    </tr>\n",
       "    <tr>\n",
       "      <th>2</th>\n",
       "      <td>0.842593</td>\n",
       "      <td>0.157407</td>\n",
       "    </tr>\n",
       "    <tr>\n",
       "      <th>3</th>\n",
       "      <td>0.864553</td>\n",
       "      <td>0.135447</td>\n",
       "    </tr>\n",
       "  </tbody>\n",
       "</table>\n",
       "</div>"
      ],
      "text/plain": [
       "Survived              0         1\n",
       "Sex    Pclass                    \n",
       "female 1       0.031915  0.968085\n",
       "       2       0.078947  0.921053\n",
       "       3       0.500000  0.500000\n",
       "male   1       0.631148  0.368852\n",
       "       2       0.842593  0.157407\n",
       "       3       0.864553  0.135447"
      ]
     },
     "execution_count": 11,
     "metadata": {},
     "output_type": "execute_result"
    }
   ],
   "source": [
    "pd.crosstab(index=[df['Sex'],df['Pclass']],columns=df['Survived'], normalize='index')"
   ]
  },
  {
   "cell_type": "markdown",
   "id": "ee973c66",
   "metadata": {
    "papermill": {
     "duration": 0.006538,
     "end_time": "2025-06-25T22:22:43.254240",
     "exception": false,
     "start_time": "2025-06-25T22:22:43.247702",
     "status": "completed"
    },
    "tags": []
   },
   "source": [
    "## Pclass and Sex vs Survived\n",
    "-96% of females in 1st class survived, while only 50% of females in 3rd class survived\n",
    "-36% of males in first class survived, which dropped to 14% of males in 3rd class\n",
    "Sex is a stronger indicator of survival than Pclass"
   ]
  },
  {
   "cell_type": "code",
   "execution_count": 12,
   "id": "d8f2642e",
   "metadata": {
    "execution": {
     "iopub.execute_input": "2025-06-25T22:22:43.270124Z",
     "iopub.status.busy": "2025-06-25T22:22:43.269251Z",
     "iopub.status.idle": "2025-06-25T22:22:43.295336Z",
     "shell.execute_reply": "2025-06-25T22:22:43.294119Z"
    },
    "papermill": {
     "duration": 0.035655,
     "end_time": "2025-06-25T22:22:43.296787",
     "exception": false,
     "start_time": "2025-06-25T22:22:43.261132",
     "status": "completed"
    },
    "tags": []
   },
   "outputs": [
    {
     "data": {
      "text/html": [
       "<div>\n",
       "<style scoped>\n",
       "    .dataframe tbody tr th:only-of-type {\n",
       "        vertical-align: middle;\n",
       "    }\n",
       "\n",
       "    .dataframe tbody tr th {\n",
       "        vertical-align: top;\n",
       "    }\n",
       "\n",
       "    .dataframe thead th {\n",
       "        text-align: right;\n",
       "    }\n",
       "</style>\n",
       "<table border=\"1\" class=\"dataframe\">\n",
       "  <thead>\n",
       "    <tr style=\"text-align: right;\">\n",
       "      <th></th>\n",
       "      <th>PassengerId</th>\n",
       "      <th>Survived</th>\n",
       "      <th>Pclass</th>\n",
       "      <th>Age</th>\n",
       "      <th>SibSp</th>\n",
       "      <th>Parch</th>\n",
       "      <th>Fare</th>\n",
       "    </tr>\n",
       "  </thead>\n",
       "  <tbody>\n",
       "    <tr>\n",
       "      <th>count</th>\n",
       "      <td>891.000000</td>\n",
       "      <td>891.000000</td>\n",
       "      <td>891.000000</td>\n",
       "      <td>714.000000</td>\n",
       "      <td>891.000000</td>\n",
       "      <td>891.000000</td>\n",
       "      <td>891.000000</td>\n",
       "    </tr>\n",
       "    <tr>\n",
       "      <th>mean</th>\n",
       "      <td>446.000000</td>\n",
       "      <td>0.383838</td>\n",
       "      <td>2.308642</td>\n",
       "      <td>29.699118</td>\n",
       "      <td>0.523008</td>\n",
       "      <td>0.381594</td>\n",
       "      <td>32.204208</td>\n",
       "    </tr>\n",
       "    <tr>\n",
       "      <th>std</th>\n",
       "      <td>257.353842</td>\n",
       "      <td>0.486592</td>\n",
       "      <td>0.836071</td>\n",
       "      <td>14.526497</td>\n",
       "      <td>1.102743</td>\n",
       "      <td>0.806057</td>\n",
       "      <td>49.693429</td>\n",
       "    </tr>\n",
       "    <tr>\n",
       "      <th>min</th>\n",
       "      <td>1.000000</td>\n",
       "      <td>0.000000</td>\n",
       "      <td>1.000000</td>\n",
       "      <td>0.420000</td>\n",
       "      <td>0.000000</td>\n",
       "      <td>0.000000</td>\n",
       "      <td>0.000000</td>\n",
       "    </tr>\n",
       "    <tr>\n",
       "      <th>25%</th>\n",
       "      <td>223.500000</td>\n",
       "      <td>0.000000</td>\n",
       "      <td>2.000000</td>\n",
       "      <td>20.125000</td>\n",
       "      <td>0.000000</td>\n",
       "      <td>0.000000</td>\n",
       "      <td>7.910400</td>\n",
       "    </tr>\n",
       "    <tr>\n",
       "      <th>50%</th>\n",
       "      <td>446.000000</td>\n",
       "      <td>0.000000</td>\n",
       "      <td>3.000000</td>\n",
       "      <td>28.000000</td>\n",
       "      <td>0.000000</td>\n",
       "      <td>0.000000</td>\n",
       "      <td>14.454200</td>\n",
       "    </tr>\n",
       "    <tr>\n",
       "      <th>75%</th>\n",
       "      <td>668.500000</td>\n",
       "      <td>1.000000</td>\n",
       "      <td>3.000000</td>\n",
       "      <td>38.000000</td>\n",
       "      <td>1.000000</td>\n",
       "      <td>0.000000</td>\n",
       "      <td>31.000000</td>\n",
       "    </tr>\n",
       "    <tr>\n",
       "      <th>max</th>\n",
       "      <td>891.000000</td>\n",
       "      <td>1.000000</td>\n",
       "      <td>3.000000</td>\n",
       "      <td>80.000000</td>\n",
       "      <td>8.000000</td>\n",
       "      <td>6.000000</td>\n",
       "      <td>512.329200</td>\n",
       "    </tr>\n",
       "  </tbody>\n",
       "</table>\n",
       "</div>"
      ],
      "text/plain": [
       "       PassengerId    Survived      Pclass         Age       SibSp  \\\n",
       "count   891.000000  891.000000  891.000000  714.000000  891.000000   \n",
       "mean    446.000000    0.383838    2.308642   29.699118    0.523008   \n",
       "std     257.353842    0.486592    0.836071   14.526497    1.102743   \n",
       "min       1.000000    0.000000    1.000000    0.420000    0.000000   \n",
       "25%     223.500000    0.000000    2.000000   20.125000    0.000000   \n",
       "50%     446.000000    0.000000    3.000000   28.000000    0.000000   \n",
       "75%     668.500000    1.000000    3.000000   38.000000    1.000000   \n",
       "max     891.000000    1.000000    3.000000   80.000000    8.000000   \n",
       "\n",
       "            Parch        Fare  \n",
       "count  891.000000  891.000000  \n",
       "mean     0.381594   32.204208  \n",
       "std      0.806057   49.693429  \n",
       "min      0.000000    0.000000  \n",
       "25%      0.000000    7.910400  \n",
       "50%      0.000000   14.454200  \n",
       "75%      0.000000   31.000000  \n",
       "max      6.000000  512.329200  "
      ]
     },
     "execution_count": 12,
     "metadata": {},
     "output_type": "execute_result"
    }
   ],
   "source": [
    "df.describe()"
   ]
  },
  {
   "cell_type": "code",
   "execution_count": 13,
   "id": "f6574b1c",
   "metadata": {
    "execution": {
     "iopub.execute_input": "2025-06-25T22:22:43.312723Z",
     "iopub.status.busy": "2025-06-25T22:22:43.311844Z",
     "iopub.status.idle": "2025-06-25T22:22:43.326247Z",
     "shell.execute_reply": "2025-06-25T22:22:43.325326Z"
    },
    "papermill": {
     "duration": 0.023924,
     "end_time": "2025-06-25T22:22:43.327755",
     "exception": false,
     "start_time": "2025-06-25T22:22:43.303831",
     "status": "completed"
    },
    "tags": []
   },
   "outputs": [
    {
     "data": {
      "text/html": [
       "<div>\n",
       "<style scoped>\n",
       "    .dataframe tbody tr th:only-of-type {\n",
       "        vertical-align: middle;\n",
       "    }\n",
       "\n",
       "    .dataframe tbody tr th {\n",
       "        vertical-align: top;\n",
       "    }\n",
       "\n",
       "    .dataframe thead th {\n",
       "        text-align: right;\n",
       "    }\n",
       "</style>\n",
       "<table border=\"1\" class=\"dataframe\">\n",
       "  <thead>\n",
       "    <tr style=\"text-align: right;\">\n",
       "      <th></th>\n",
       "      <th>PassengerId</th>\n",
       "      <th>Survived</th>\n",
       "      <th>Pclass</th>\n",
       "      <th>Name</th>\n",
       "      <th>Sex</th>\n",
       "      <th>Age</th>\n",
       "      <th>SibSp</th>\n",
       "      <th>Parch</th>\n",
       "      <th>Ticket</th>\n",
       "      <th>Fare</th>\n",
       "      <th>Cabin</th>\n",
       "      <th>Embarked</th>\n",
       "    </tr>\n",
       "  </thead>\n",
       "  <tbody>\n",
       "    <tr>\n",
       "      <th>0</th>\n",
       "      <td>1</td>\n",
       "      <td>0</td>\n",
       "      <td>3</td>\n",
       "      <td>Braund, Mr. Owen Harris</td>\n",
       "      <td>male</td>\n",
       "      <td>22.0</td>\n",
       "      <td>1</td>\n",
       "      <td>0</td>\n",
       "      <td>A/5 21171</td>\n",
       "      <td>7.2500</td>\n",
       "      <td>NaN</td>\n",
       "      <td>S</td>\n",
       "    </tr>\n",
       "    <tr>\n",
       "      <th>1</th>\n",
       "      <td>2</td>\n",
       "      <td>1</td>\n",
       "      <td>1</td>\n",
       "      <td>Cumings, Mrs. John Bradley (Florence Briggs Th...</td>\n",
       "      <td>female</td>\n",
       "      <td>38.0</td>\n",
       "      <td>1</td>\n",
       "      <td>0</td>\n",
       "      <td>PC 17599</td>\n",
       "      <td>71.2833</td>\n",
       "      <td>C85</td>\n",
       "      <td>C</td>\n",
       "    </tr>\n",
       "    <tr>\n",
       "      <th>2</th>\n",
       "      <td>3</td>\n",
       "      <td>1</td>\n",
       "      <td>3</td>\n",
       "      <td>Heikkinen, Miss. Laina</td>\n",
       "      <td>female</td>\n",
       "      <td>26.0</td>\n",
       "      <td>0</td>\n",
       "      <td>0</td>\n",
       "      <td>STON/O2. 3101282</td>\n",
       "      <td>7.9250</td>\n",
       "      <td>NaN</td>\n",
       "      <td>S</td>\n",
       "    </tr>\n",
       "    <tr>\n",
       "      <th>3</th>\n",
       "      <td>4</td>\n",
       "      <td>1</td>\n",
       "      <td>1</td>\n",
       "      <td>Futrelle, Mrs. Jacques Heath (Lily May Peel)</td>\n",
       "      <td>female</td>\n",
       "      <td>35.0</td>\n",
       "      <td>1</td>\n",
       "      <td>0</td>\n",
       "      <td>113803</td>\n",
       "      <td>53.1000</td>\n",
       "      <td>C123</td>\n",
       "      <td>S</td>\n",
       "    </tr>\n",
       "    <tr>\n",
       "      <th>4</th>\n",
       "      <td>5</td>\n",
       "      <td>0</td>\n",
       "      <td>3</td>\n",
       "      <td>Allen, Mr. William Henry</td>\n",
       "      <td>male</td>\n",
       "      <td>35.0</td>\n",
       "      <td>0</td>\n",
       "      <td>0</td>\n",
       "      <td>373450</td>\n",
       "      <td>8.0500</td>\n",
       "      <td>NaN</td>\n",
       "      <td>S</td>\n",
       "    </tr>\n",
       "  </tbody>\n",
       "</table>\n",
       "</div>"
      ],
      "text/plain": [
       "   PassengerId  Survived  Pclass  \\\n",
       "0            1         0       3   \n",
       "1            2         1       1   \n",
       "2            3         1       3   \n",
       "3            4         1       1   \n",
       "4            5         0       3   \n",
       "\n",
       "                                                Name     Sex   Age  SibSp  \\\n",
       "0                            Braund, Mr. Owen Harris    male  22.0      1   \n",
       "1  Cumings, Mrs. John Bradley (Florence Briggs Th...  female  38.0      1   \n",
       "2                             Heikkinen, Miss. Laina  female  26.0      0   \n",
       "3       Futrelle, Mrs. Jacques Heath (Lily May Peel)  female  35.0      1   \n",
       "4                           Allen, Mr. William Henry    male  35.0      0   \n",
       "\n",
       "   Parch            Ticket     Fare Cabin Embarked  \n",
       "0      0         A/5 21171   7.2500   NaN        S  \n",
       "1      0          PC 17599  71.2833   C85        C  \n",
       "2      0  STON/O2. 3101282   7.9250   NaN        S  \n",
       "3      0            113803  53.1000  C123        S  \n",
       "4      0            373450   8.0500   NaN        S  "
      ]
     },
     "execution_count": 13,
     "metadata": {},
     "output_type": "execute_result"
    }
   ],
   "source": [
    "df.head()"
   ]
  },
  {
   "cell_type": "code",
   "execution_count": 14,
   "id": "a07e9e84",
   "metadata": {
    "execution": {
     "iopub.execute_input": "2025-06-25T22:22:43.344728Z",
     "iopub.status.busy": "2025-06-25T22:22:43.343785Z",
     "iopub.status.idle": "2025-06-25T22:22:43.352384Z",
     "shell.execute_reply": "2025-06-25T22:22:43.351317Z"
    },
    "papermill": {
     "duration": 0.018499,
     "end_time": "2025-06-25T22:22:43.353993",
     "exception": false,
     "start_time": "2025-06-25T22:22:43.335494",
     "status": "completed"
    },
    "tags": []
   },
   "outputs": [
    {
     "name": "stdout",
     "output_type": "stream",
     "text": [
      "                                                Name  Survived\n",
      "0                            Braund, Mr. Owen Harris         0\n",
      "1  Cumings, Mrs. John Bradley (Florence Briggs Th...         1\n",
      "2                             Heikkinen, Miss. Laina         1\n",
      "3       Futrelle, Mrs. Jacques Heath (Lily May Peel)         1\n",
      "4                           Allen, Mr. William Henry         0\n",
      "5                                   Moran, Mr. James         0\n",
      "6                            McCarthy, Mr. Timothy J         0\n",
      "7                     Palsson, Master. Gosta Leonard         0\n",
      "8  Johnson, Mrs. Oscar W (Elisabeth Vilhelmina Berg)         1\n",
      "9                Nasser, Mrs. Nicholas (Adele Achem)         1\n"
     ]
    }
   ],
   "source": [
    "name_survived = df.loc[:9,['Name','Survived']]\n",
    "print(name_survived)\n",
    "#first 10 rows of Name and Survived"
   ]
  },
  {
   "cell_type": "code",
   "execution_count": 15,
   "id": "7743bd58",
   "metadata": {
    "execution": {
     "iopub.execute_input": "2025-06-25T22:22:43.370195Z",
     "iopub.status.busy": "2025-06-25T22:22:43.369858Z",
     "iopub.status.idle": "2025-06-25T22:22:43.380622Z",
     "shell.execute_reply": "2025-06-25T22:22:43.379634Z"
    },
    "papermill": {
     "duration": 0.020661,
     "end_time": "2025-06-25T22:22:43.382099",
     "exception": false,
     "start_time": "2025-06-25T22:22:43.361438",
     "status": "completed"
    },
    "tags": []
   },
   "outputs": [
    {
     "name": "stdout",
     "output_type": "stream",
     "text": [
      "   Pclass     Sex   Age\n",
      "4       3    male  35.0\n",
      "5       3    male   NaN\n",
      "6       1    male  54.0\n",
      "7       3    male   2.0\n",
      "8       3  female  27.0\n",
      "9       2  female  14.0\n"
     ]
    },
    {
     "name": "stderr",
     "output_type": "stream",
     "text": [
      "/usr/local/lib/python3.11/dist-packages/pandas/io/formats/format.py:1458: RuntimeWarning: invalid value encountered in greater\n",
      "  has_large_values = (abs_vals > 1e6).any()\n",
      "/usr/local/lib/python3.11/dist-packages/pandas/io/formats/format.py:1459: RuntimeWarning: invalid value encountered in less\n",
      "  has_small_values = ((abs_vals < 10 ** (-self.digits)) & (abs_vals > 0)).any()\n",
      "/usr/local/lib/python3.11/dist-packages/pandas/io/formats/format.py:1459: RuntimeWarning: invalid value encountered in greater\n",
      "  has_small_values = ((abs_vals < 10 ** (-self.digits)) & (abs_vals > 0)).any()\n"
     ]
    }
   ],
   "source": [
    "pclass_sex_age = df.iloc[4:10,[2,4,5]]\n",
    "print(pclass_sex_age)"
   ]
  },
  {
   "cell_type": "code",
   "execution_count": 16,
   "id": "02c1bb70",
   "metadata": {
    "execution": {
     "iopub.execute_input": "2025-06-25T22:22:43.398471Z",
     "iopub.status.busy": "2025-06-25T22:22:43.398165Z",
     "iopub.status.idle": "2025-06-25T22:22:43.405874Z",
     "shell.execute_reply": "2025-06-25T22:22:43.404814Z"
    },
    "papermill": {
     "duration": 0.017635,
     "end_time": "2025-06-25T22:22:43.407365",
     "exception": false,
     "start_time": "2025-06-25T22:22:43.389730",
     "status": "completed"
    },
    "tags": []
   },
   "outputs": [
    {
     "name": "stdout",
     "output_type": "stream",
     "text": [
      "PassengerId                                                   42\n",
      "Survived                                                       0\n",
      "Pclass                                                         2\n",
      "Name           Turpin, Mrs. William John Robert (Dorothy Ann ...\n",
      "Sex                                                       female\n",
      "Age                                                         27.0\n",
      "SibSp                                                          1\n",
      "Parch                                                          0\n",
      "Ticket                                                     11668\n",
      "Fare                                                        21.0\n",
      "Cabin                                                        NaN\n",
      "Embarked                                                       S\n",
      "Name: 41, dtype: object\n",
      "Age at index 41: 27.0\n"
     ]
    }
   ],
   "source": [
    "print(df.iloc[41])\n",
    "df.loc[41,['Age','Name']]\n",
    "age_41 = df.loc[41,'Age']\n",
    "print(f\"Age at index 41: {age_41}\")"
   ]
  },
  {
   "cell_type": "code",
   "execution_count": 17,
   "id": "ae645a49",
   "metadata": {
    "execution": {
     "iopub.execute_input": "2025-06-25T22:22:43.424422Z",
     "iopub.status.busy": "2025-06-25T22:22:43.423608Z",
     "iopub.status.idle": "2025-06-25T22:22:43.432073Z",
     "shell.execute_reply": "2025-06-25T22:22:43.431047Z"
    },
    "papermill": {
     "duration": 0.018537,
     "end_time": "2025-06-25T22:22:43.433535",
     "exception": false,
     "start_time": "2025-06-25T22:22:43.414998",
     "status": "completed"
    },
    "tags": []
   },
   "outputs": [
    {
     "name": "stdout",
     "output_type": "stream",
     "text": [
      "   Pclass     Fare  Survived\n",
      "0       3   7.2500         0\n",
      "1       1  71.2833         1\n",
      "2       3   7.9250         1\n",
      "3       1  53.1000         1\n",
      "4       3   8.0500         0\n"
     ]
    }
   ],
   "source": [
    "subset_df = df[['Pclass','Fare','Survived']]\n",
    "print(subset_df.head())"
   ]
  },
  {
   "cell_type": "code",
   "execution_count": 18,
   "id": "571f7d73",
   "metadata": {
    "execution": {
     "iopub.execute_input": "2025-06-25T22:22:43.450748Z",
     "iopub.status.busy": "2025-06-25T22:22:43.450003Z",
     "iopub.status.idle": "2025-06-25T22:22:43.459147Z",
     "shell.execute_reply": "2025-06-25T22:22:43.458219Z"
    },
    "papermill": {
     "duration": 0.019785,
     "end_time": "2025-06-25T22:22:43.460816",
     "exception": false,
     "start_time": "2025-06-25T22:22:43.441031",
     "status": "completed"
    },
    "tags": []
   },
   "outputs": [
    {
     "name": "stdout",
     "output_type": "stream",
     "text": [
      "                                                Name  FamilySize\n",
      "0                            Braund, Mr. Owen Harris           1\n",
      "1  Cumings, Mrs. John Bradley (Florence Briggs Th...           1\n",
      "2                             Heikkinen, Miss. Laina           0\n",
      "3       Futrelle, Mrs. Jacques Heath (Lily May Peel)           1\n",
      "4                           Allen, Mr. William Henry           0\n"
     ]
    }
   ],
   "source": [
    "df['FamilySize'] = df['SibSp'] + df['Parch']\n",
    "print(df[['Name','FamilySize']].head())"
   ]
  },
  {
   "cell_type": "code",
   "execution_count": 19,
   "id": "67f4cd50",
   "metadata": {
    "execution": {
     "iopub.execute_input": "2025-06-25T22:22:43.477807Z",
     "iopub.status.busy": "2025-06-25T22:22:43.477513Z",
     "iopub.status.idle": "2025-06-25T22:22:43.485463Z",
     "shell.execute_reply": "2025-06-25T22:22:43.484362Z"
    },
    "papermill": {
     "duration": 0.018263,
     "end_time": "2025-06-25T22:22:43.487023",
     "exception": false,
     "start_time": "2025-06-25T22:22:43.468760",
     "status": "completed"
    },
    "tags": []
   },
   "outputs": [
    {
     "name": "stdout",
     "output_type": "stream",
     "text": [
      "   PassengerId Dataset\n",
      "0            1   train\n",
      "1            2   train\n",
      "2            3   train\n",
      "3            4   train\n",
      "4            5   train\n"
     ]
    }
   ],
   "source": [
    "df['Dataset'] = 'train'\n",
    "print(df[['PassengerId','Dataset']].head())"
   ]
  },
  {
   "cell_type": "code",
   "execution_count": 20,
   "id": "19527440",
   "metadata": {
    "execution": {
     "iopub.execute_input": "2025-06-25T22:22:43.504216Z",
     "iopub.status.busy": "2025-06-25T22:22:43.503857Z",
     "iopub.status.idle": "2025-06-25T22:22:43.511318Z",
     "shell.execute_reply": "2025-06-25T22:22:43.510411Z"
    },
    "papermill": {
     "duration": 0.017535,
     "end_time": "2025-06-25T22:22:43.512666",
     "exception": false,
     "start_time": "2025-06-25T22:22:43.495131",
     "status": "completed"
    },
    "tags": []
   },
   "outputs": [
    {
     "name": "stdout",
     "output_type": "stream",
     "text": [
      "1st class survival rate: 62.96%\n"
     ]
    }
   ],
   "source": [
    "first_class = df.loc[df.Pclass ==1]\n",
    "first_class_sr = first_class['Survived'].mean()\n",
    "print(f\"1st class survival rate: {first_class_sr:.2%}\")"
   ]
  },
  {
   "cell_type": "code",
   "execution_count": 21,
   "id": "fff03bf5",
   "metadata": {
    "execution": {
     "iopub.execute_input": "2025-06-25T22:22:43.529858Z",
     "iopub.status.busy": "2025-06-25T22:22:43.529511Z",
     "iopub.status.idle": "2025-06-25T22:22:43.538020Z",
     "shell.execute_reply": "2025-06-25T22:22:43.536994Z"
    },
    "papermill": {
     "duration": 0.019044,
     "end_time": "2025-06-25T22:22:43.539572",
     "exception": false,
     "start_time": "2025-06-25T22:22:43.520528",
     "status": "completed"
    },
    "tags": []
   },
   "outputs": [
    {
     "name": "stdout",
     "output_type": "stream",
     "text": [
      "PassengerId                                                    2\n",
      "Survived                                                       1\n",
      "Pclass                                                         1\n",
      "Name           Cumings, Mrs. John Bradley (Florence Briggs Th...\n",
      "Sex                                                       female\n",
      "Age                                                         38.0\n",
      "SibSp                                                          1\n",
      "Parch                                                          0\n",
      "Ticket                                                  PC 17599\n",
      "Fare                                                     71.2833\n",
      "Cabin                                                        C85\n",
      "Embarked                                                       C\n",
      "FamilySize                                                     1\n",
      "Dataset                                                    train\n",
      "Name: 1, dtype: object\n",
      "Avg female passenger age: 27.9\n"
     ]
    }
   ],
   "source": [
    "female_p = df.loc[df['Sex']=='female']\n",
    "print(female_p.iloc[0])\n",
    "female_p_age = female_p.Age.mean()\n",
    "print(f\"Avg female passenger age: {female_p_age:.1f}\")"
   ]
  },
  {
   "cell_type": "code",
   "execution_count": 22,
   "id": "4a60cdd8",
   "metadata": {
    "execution": {
     "iopub.execute_input": "2025-06-25T22:22:43.556998Z",
     "iopub.status.busy": "2025-06-25T22:22:43.556114Z",
     "iopub.status.idle": "2025-06-25T22:22:43.563159Z",
     "shell.execute_reply": "2025-06-25T22:22:43.562272Z"
    },
    "papermill": {
     "duration": 0.017195,
     "end_time": "2025-06-25T22:22:43.564684",
     "exception": false,
     "start_time": "2025-06-25T22:22:43.547489",
     "status": "completed"
    },
    "tags": []
   },
   "outputs": [
    {
     "name": "stdout",
     "output_type": "stream",
     "text": [
      "Passengers with large families (>3) who survived: 10\n"
     ]
    }
   ],
   "source": [
    "large_families = df.loc[df['FamilySize']>3, 'Survived']\n",
    "lf_survived = large_families.sum()\n",
    "print(f\"Passengers with large families (>3) who survived: {lf_survived}\")"
   ]
  },
  {
   "cell_type": "markdown",
   "id": "06ddc11a",
   "metadata": {
    "papermill": {
     "duration": 0.007721,
     "end_time": "2025-06-25T22:22:43.580743",
     "exception": false,
     "start_time": "2025-06-25T22:22:43.573022",
     "status": "completed"
    },
    "tags": []
   },
   "source": [
    "## Week 1, Wednesday: Indexing and Selection Practice\n",
    "- Selected 1st-class passengers: ~63% survival rate.\n",
    "- Average female age: ~27.9 years.\n",
    "- Survivors with FamilySize > 3: 10 passengers.\n",
    "- Created `FamilySize` column for future analysis."
   ]
  },
  {
   "cell_type": "code",
   "execution_count": 23,
   "id": "a34ddd06",
   "metadata": {
    "execution": {
     "iopub.execute_input": "2025-06-25T22:22:43.597900Z",
     "iopub.status.busy": "2025-06-25T22:22:43.597605Z",
     "iopub.status.idle": "2025-06-25T22:22:45.432043Z",
     "shell.execute_reply": "2025-06-25T22:22:45.430907Z"
    },
    "papermill": {
     "duration": 1.84496,
     "end_time": "2025-06-25T22:22:45.433538",
     "exception": false,
     "start_time": "2025-06-25T22:22:43.588578",
     "status": "completed"
    },
    "tags": []
   },
   "outputs": [
    {
     "name": "stdout",
     "output_type": "stream",
     "text": [
      "Setup Complete\n"
     ]
    }
   ],
   "source": [
    "%matplotlib inline\n",
    "import seaborn as sns\n",
    "print(\"Setup Complete\")"
   ]
  },
  {
   "cell_type": "code",
   "execution_count": 24,
   "id": "cc0856fd",
   "metadata": {
    "execution": {
     "iopub.execute_input": "2025-06-25T22:22:45.451433Z",
     "iopub.status.busy": "2025-06-25T22:22:45.450926Z",
     "iopub.status.idle": "2025-06-25T22:22:45.712220Z",
     "shell.execute_reply": "2025-06-25T22:22:45.711200Z"
    },
    "papermill": {
     "duration": 0.272021,
     "end_time": "2025-06-25T22:22:45.713736",
     "exception": false,
     "start_time": "2025-06-25T22:22:45.441715",
     "status": "completed"
    },
    "tags": []
   },
   "outputs": [
    {
     "name": "stderr",
     "output_type": "stream",
     "text": [
      "/usr/local/lib/python3.11/dist-packages/seaborn/_oldcore.py:1119: FutureWarning: use_inf_as_na option is deprecated and will be removed in a future version. Convert inf values to NaN before operating instead.\n",
      "  with pd.option_context('mode.use_inf_as_na', True):\n"
     ]
    },
    {
     "data": {
      "text/plain": [
       "Text(0.5, 1.0, 'Age distribution on Titanic')"
      ]
     },
     "execution_count": 24,
     "metadata": {},
     "output_type": "execute_result"
    },
    {
     "data": {
      "image/png": "[encoded data removed]",
      "text/plain": [
       "<Figure size 640x480 with 1 Axes>"
      ]
     },
     "metadata": {},
     "output_type": "display_data"
    }
   ],
   "source": [
    "sns.histplot(df['Age'])\n",
    "plt.title(\"Age distribution on Titanic\")"
   ]
  },
  {
   "cell_type": "code",
   "execution_count": 25,
   "id": "cb1914d9",
   "metadata": {
    "execution": {
     "iopub.execute_input": "2025-06-25T22:22:45.734102Z",
     "iopub.status.busy": "2025-06-25T22:22:45.733036Z",
     "iopub.status.idle": "2025-06-25T22:22:46.066448Z",
     "shell.execute_reply": "2025-06-25T22:22:46.065455Z"
    },
    "papermill": {
     "duration": 0.345435,
     "end_time": "2025-06-25T22:22:46.068059",
     "exception": false,
     "start_time": "2025-06-25T22:22:45.722624",
     "status": "completed"
    },
    "tags": []
   },
   "outputs": [
    {
     "data": {
      "text/plain": [
       "<Axes: xlabel='Age', ylabel='Fare'>"
      ]
     },
     "execution_count": 25,
     "metadata": {},
     "output_type": "execute_result"
    },
    {
     "data": {
      "image/png": "[encoded data removed]",
      "text/plain": [
       "<Figure size 640x480 with 1 Axes>"
      ]
     },
     "metadata": {},
     "output_type": "display_data"
    }
   ],
   "source": [
    "sns.scatterplot(x=df['Age'], y=df['Fare'], hue=df['Survived'])"
   ]
  },
  {
   "cell_type": "code",
   "execution_count": 26,
   "id": "58a21074",
   "metadata": {
    "execution": {
     "iopub.execute_input": "2025-06-25T22:22:46.089773Z",
     "iopub.status.busy": "2025-06-25T22:22:46.088771Z",
     "iopub.status.idle": "2025-06-25T22:22:46.279707Z",
     "shell.execute_reply": "2025-06-25T22:22:46.278683Z"
    },
    "papermill": {
     "duration": 0.203448,
     "end_time": "2025-06-25T22:22:46.281347",
     "exception": false,
     "start_time": "2025-06-25T22:22:46.077899",
     "status": "completed"
    },
    "tags": []
   },
   "outputs": [
    {
     "data": {
      "image/png": "[encoded data removed]",
      "text/plain": [
       "<Figure size 640x480 with 1 Axes>"
      ]
     },
     "metadata": {},
     "output_type": "display_data"
    }
   ],
   "source": [
    "survival_sex = pd.crosstab(df['Sex'],df['Survived'], normalize='index')\n",
    "survival_sex.plot(kind='bar', stacked=True)\n",
    "plt.title('Survival Rate by Sex')\n",
    "plt.xlabel('Sex')\n",
    "plt.ylabel('Proportion')\n",
    "plt.show()"
   ]
  }
 ],
 "metadata": {
  "kaggle": {
   "accelerator": "none",
   "dataSources": [
    {
     "datasetId": 3064,
     "sourceId": 5101,
     "sourceType": "datasetVersion"
    }
   ],
   "dockerImageVersionId": 31040,
   "isGpuEnabled": false,
   "isInternetEnabled": false,
   "language": "python",
   "sourceType": "notebook"
  },
  "kernelspec": {
   "display_name": "Python 3",
   "language": "python",
   "name": "python3"
  },
  "language_info": {
   "codemirror_mode": {
    "name": "ipython",
    "version": 3
   },
   "file_extension": ".py",
   "mimetype": "text/x-python",
   "name": "python",
   "nbconvert_exporter": "python",
   "pygments_lexer": "ipython3",
   "version": "3.11.11"
  },
  "papermill": {
   "default_parameters": {},
   "duration": 11.267042,
   "end_time": "2025-06-25T22:22:46.912232",
   "environment_variables": {},
   "exception": null,
   "input_path": "__notebook__.ipynb",
   "output_path": "__notebook__.ipynb",
   "parameters": {},
   "start_time": "2025-06-25T22:22:35.645190",
   "version": "2.6.0"
  }
 },
 "nbformat": 4,
 "nbformat_minor": 5
}
